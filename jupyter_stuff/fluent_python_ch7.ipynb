{
 "cells": [
  {
   "cell_type": "markdown",
   "id": "e7398b30-1c3f-4d0f-a0dc-f3da87e70eed",
   "metadata": {},
   "source": [
    "<h3>Ch 7: Function Decorators and Closures</h3>\n",
    "\n",
    "Function decorators let us \"mark\" functions in the source code to enhance their behavior in some way. It is powerful, but mastering it requires understanding closures.\n",
    "\n",
    "One of the newest reserved keywords in Python is `nonlocal`, introduced in Python 3.0. If you want to implement your own function decorators, you must know closures inside and out, and the need for `nonlocal` becomes obvious.\n",
    "\n",
    "Closures are also essential for effective asynchronous programming with callbacks, and for coding in a functional style whenever it makes sense."
   ]
  },
  {
   "cell_type": "code",
   "execution_count": 3,
   "id": "63f1bf2b-8312-44be-a75a-ab66e96bfd8a",
   "metadata": {},
   "outputs": [],
   "source": [
    "# 10:52a - ? 11:47a maybe\n",
    "# 12:47p - 1:16p\n",
    "\n",
    "# 2:47p - 3:20p\n",
    "\n",
    "# 3:39p - \n",
    "\n"
   ]
  },
  {
   "cell_type": "markdown",
   "id": "6af41d09-280b-4642-95b6-6cd9f1add581",
   "metadata": {},
   "source": [
    "<h3>Decorators 101</h3>\n",
    "\n",
    "A decorator is a callable that takes another function as argument (the decorated function). The decorator may perform some processing with the decorated function, and returns or replaces it with another function or callable object."
   ]
  },
  {
   "cell_type": "code",
   "execution_count": 4,
   "id": "484b5ee5-4f7a-417b-9591-979aace9bf3b",
   "metadata": {},
   "outputs": [],
   "source": [
    "def decorate(func):\n",
    "    pass\n",
    "\n",
    "@decorate\n",
    "def target():\n",
    "    print(\"running target()\")\n",
    "\n",
    "# This has the same effect as writing this:\n",
    "def target():\n",
    "    print(\"running target()\")\n",
    "\n",
    "target = decorate(target)"
   ]
  },
  {
   "cell_type": "markdown",
   "id": "9d337f19-37b7-4ad7-adbd-892a4b52ead2",
   "metadata": {},
   "source": [
    "The end result is the same: at the end of either of those snippets, the `target` name does not necessarily refer to the original `target` function, but to whatever function is returned by `decorate(target)`"
   ]
  },
  {
   "cell_type": "code",
   "execution_count": 5,
   "id": "c21f5b8f-a12f-4074-b7a7-a882285e822b",
   "metadata": {},
   "outputs": [
    {
     "name": "stdout",
     "output_type": "stream",
     "text": [
      "running inner()\n"
     ]
    }
   ],
   "source": [
    "def deco(func):\n",
    "    def inner():\n",
    "        print('running inner()')\n",
    "    return inner\n",
    "\n",
    "@deco\n",
    "def target():\n",
    "    print('running target()')\n",
    "\n",
    "target()"
   ]
  },
  {
   "cell_type": "code",
   "execution_count": 6,
   "id": "c00ab4f5-2984-4e80-820e-c5f35b3861d0",
   "metadata": {},
   "outputs": [
    {
     "data": {
      "text/plain": [
       "<function __main__.deco.<locals>.inner()>"
      ]
     },
     "execution_count": 6,
     "metadata": {},
     "output_type": "execute_result"
    }
   ],
   "source": [
    "# target is now a reference to inner\n",
    "\n",
    "target"
   ]
  },
  {
   "cell_type": "markdown",
   "id": "c9232cdf-4dd6-409b-86b2-70742fdc081f",
   "metadata": {},
   "source": [
    "The first crucial fact about decorators is that they have the power to replace the decorated function with a different one. The second crucial fact is that they are executed immediately when a module is loaded.\n",
    "\n",
    "A key feature of decorators is that they run right after the decorated function is defined. That is usually at <i>import time</i> (i.e., when the module is loaded by Python). "
   ]
  },
  {
   "cell_type": "code",
   "execution_count": 7,
   "id": "aec8c7d7-95d9-4b3c-9e9e-4606a1131cba",
   "metadata": {},
   "outputs": [
    {
     "name": "stdout",
     "output_type": "stream",
     "text": [
      "running register(<function f1 at 0x7f882038adc0>)\n",
      "running register(<function f2 at 0x7f88203ae040>)\n",
      "running main()\n",
      "registry -> [<function f1 at 0x7f882038adc0>, <function f2 at 0x7f88203ae040>]\n",
      "running f1()\n",
      "running f2()\n",
      "running f3()\n"
     ]
    }
   ],
   "source": [
    "registry = []\n",
    "\n",
    "def register(func):\n",
    "    print('running register(%s)' % func)\n",
    "    registry.append(func)\n",
    "    return func\n",
    "\n",
    "@register\n",
    "def f1():\n",
    "    print('running f1()')\n",
    "\n",
    "@register\n",
    "def f2():\n",
    "    print('running f2()')\n",
    "\n",
    "def f3():\n",
    "    print('running f3()')\n",
    "\n",
    "def main():\n",
    "    print('running main()')\n",
    "    print('registry ->', registry)\n",
    "    f1()\n",
    "    f2()\n",
    "    f3()\n",
    "\n",
    "if __name__ == '__main__':\n",
    "    main()"
   ]
  },
  {
   "cell_type": "code",
   "execution_count": 8,
   "id": "17e61de2-cb94-415a-8aa7-09f544ea37b6",
   "metadata": {},
   "outputs": [
    {
     "name": "stdout",
     "output_type": "stream",
     "text": [
      "running register(<function f1 at 0x7f882038aa60>)\n",
      "running register(<function f2 at 0x7f882038adc0>)\n"
     ]
    }
   ],
   "source": [
    "registry = []\n",
    "\n",
    "def register(func):\n",
    "    print('running register(%s)' % func)\n",
    "    registry.append(func)\n",
    "    return func\n",
    "\n",
    "@register\n",
    "def f1():\n",
    "    print('running f1()')\n",
    "\n",
    "@register\n",
    "def f2():\n",
    "    print('running f2()')\n",
    "\n",
    "def f3():\n",
    "    print('running f3()')\n",
    "\n",
    "def main():\n",
    "    print('running main()')\n",
    "    print('registry ->', registry)\n",
    "    f1()\n",
    "    f2()\n",
    "    f3()\n",
    "\n",
    "# if __name__ == '__main__':\n",
    "#     main()"
   ]
  },
  {
   "cell_type": "markdown",
   "id": "9a850d38-b743-4e79-85d4-0438b166a840",
   "metadata": {},
   "source": [
    "Note that register runs twice before any other function in the module. Function decorators are executed as soon as the module is imported, but the decorated functions only run when they are explicitly invoked. This is the difference between <i>import time</i> and <i>runtime</i>.\n",
    "\n",
    "Note that a decorator function is usually defined in one module and applied to functions in other modules (not defined in the same module like we did here). The `register` decorator returns the same function passed as an argument. In practice, most decorators define an inner function and return it."
   ]
  },
  {
   "cell_type": "code",
   "execution_count": 9,
   "id": "f6ea1b66-8989-4cdf-b02d-5e211f06ee3d",
   "metadata": {},
   "outputs": [],
   "source": [
    "# Same promos example from the refactoring in last chapter.\n",
    "# Decorator adds promos to the list to avoid missing new ones if not manually added to the promos list.\n",
    "\n",
    "promos = []\n",
    "\n",
    "def promotion(promo_func):\n",
    "    promos.append(promo_func)\n",
    "    return promo_func\n",
    "\n",
    "@promotion\n",
    "def fidelity(order):\n",
    "    \"\"\"5% discount for customers with 1000 or more fidelity points\"\"\"\n",
    "    return order.total() * .05 if order.customer.fidelity >= 1000 else 0\n",
    "\n",
    "@promotion\n",
    "def bulk_item(order):\n",
    "    \"\"\"10% discount for each LineItem with 20 or more units\"\"\"\n",
    "    discount = 0\n",
    "    for item in order.cart:\n",
    "        if item.quantity >= 20:\n",
    "            discount += item.total() * .1\n",
    "    return discount\n",
    "\n",
    "def best_promo(order):\n",
    "    \"\"\"Select best discount available\"\"\"\n",
    "    return max(promo(order) for promo in promos)\n"
   ]
  },
  {
   "cell_type": "markdown",
   "id": "52b4b45b-ba8b-4e39-88eb-1b2d6f6c1b11",
   "metadata": {},
   "source": [
    "Now the promos don't need to use the `_promo` suffix. It makes it easy to temporarily disable a promotion: just comment out the decorator. Promo discount strategies can now be defined in other modules, anywhere in the system, as long as the `@promotion` decorator is applied to them."
   ]
  },
  {
   "cell_type": "markdown",
   "id": "16ab3736-dc02-4fdf-97e7-9864ff16baf2",
   "metadata": {},
   "source": [
    "<h3>Variable Scope Rules</h3>\n",
    "\n",
    "Let's look at these before going into closures. Most decorators do change the decorated function. They usually do it by defining an inner function and returning it to replace the decorated function. Code that uses inner functions almost always depends on closures to operate correctly. "
   ]
  },
  {
   "cell_type": "code",
   "execution_count": 10,
   "id": "8008b165-d42c-4981-86c8-f8f9f0449796",
   "metadata": {},
   "outputs": [
    {
     "name": "stdout",
     "output_type": "stream",
     "text": [
      "3\n"
     ]
    },
    {
     "ename": "NameError",
     "evalue": "name 'b' is not defined",
     "output_type": "error",
     "traceback": [
      "\u001b[0;31m---------------------------------------------------------------------------\u001b[0m",
      "\u001b[0;31mNameError\u001b[0m                                 Traceback (most recent call last)",
      "\u001b[0;32m<ipython-input-10-25d665eb58d1>\u001b[0m in \u001b[0;36m<module>\u001b[0;34m\u001b[0m\n\u001b[1;32m      3\u001b[0m     \u001b[0mprint\u001b[0m\u001b[0;34m(\u001b[0m\u001b[0mb\u001b[0m\u001b[0;34m)\u001b[0m\u001b[0;34m\u001b[0m\u001b[0;34m\u001b[0m\u001b[0m\n\u001b[1;32m      4\u001b[0m \u001b[0;34m\u001b[0m\u001b[0m\n\u001b[0;32m----> 5\u001b[0;31m \u001b[0mf1\u001b[0m\u001b[0;34m(\u001b[0m\u001b[0;36m3\u001b[0m\u001b[0;34m)\u001b[0m\u001b[0;34m\u001b[0m\u001b[0;34m\u001b[0m\u001b[0m\n\u001b[0m",
      "\u001b[0;32m<ipython-input-10-25d665eb58d1>\u001b[0m in \u001b[0;36mf1\u001b[0;34m(a)\u001b[0m\n\u001b[1;32m      1\u001b[0m \u001b[0;32mdef\u001b[0m \u001b[0mf1\u001b[0m\u001b[0;34m(\u001b[0m\u001b[0ma\u001b[0m\u001b[0;34m)\u001b[0m\u001b[0;34m:\u001b[0m\u001b[0;34m\u001b[0m\u001b[0;34m\u001b[0m\u001b[0m\n\u001b[1;32m      2\u001b[0m     \u001b[0mprint\u001b[0m\u001b[0;34m(\u001b[0m\u001b[0ma\u001b[0m\u001b[0;34m)\u001b[0m\u001b[0;34m\u001b[0m\u001b[0;34m\u001b[0m\u001b[0m\n\u001b[0;32m----> 3\u001b[0;31m     \u001b[0mprint\u001b[0m\u001b[0;34m(\u001b[0m\u001b[0mb\u001b[0m\u001b[0;34m)\u001b[0m\u001b[0;34m\u001b[0m\u001b[0;34m\u001b[0m\u001b[0m\n\u001b[0m\u001b[1;32m      4\u001b[0m \u001b[0;34m\u001b[0m\u001b[0m\n\u001b[1;32m      5\u001b[0m \u001b[0mf1\u001b[0m\u001b[0;34m(\u001b[0m\u001b[0;36m3\u001b[0m\u001b[0;34m)\u001b[0m\u001b[0;34m\u001b[0m\u001b[0;34m\u001b[0m\u001b[0m\n",
      "\u001b[0;31mNameError\u001b[0m: name 'b' is not defined"
     ]
    }
   ],
   "source": [
    "def f1(a):\n",
    "    print(a)\n",
    "    print(b)\n",
    "\n",
    "f1(3)"
   ]
  },
  {
   "cell_type": "code",
   "execution_count": 11,
   "id": "74b007ac-7155-407a-8db9-88a0dcc0dc1f",
   "metadata": {},
   "outputs": [
    {
     "name": "stdout",
     "output_type": "stream",
     "text": [
      "3\n",
      "6\n"
     ]
    }
   ],
   "source": [
    "# Assign a value of 6 to global b, then call f1.\n",
    "\n",
    "b = 6\n",
    "f1(3)"
   ]
  },
  {
   "cell_type": "code",
   "execution_count": 12,
   "id": "b13f4295-261d-4340-811d-c2e389ed6fd3",
   "metadata": {},
   "outputs": [],
   "source": [
    "b = 6\n",
    "def f2(a):\n",
    "    print(a)\n",
    "    print(b)\n",
    "    b = 9"
   ]
  },
  {
   "cell_type": "code",
   "execution_count": 13,
   "id": "366e0b65-45ef-41ab-94f9-32913d2cac1f",
   "metadata": {},
   "outputs": [
    {
     "name": "stdout",
     "output_type": "stream",
     "text": [
      "3\n"
     ]
    },
    {
     "ename": "UnboundLocalError",
     "evalue": "local variable 'b' referenced before assignment",
     "output_type": "error",
     "traceback": [
      "\u001b[0;31m---------------------------------------------------------------------------\u001b[0m",
      "\u001b[0;31mUnboundLocalError\u001b[0m                         Traceback (most recent call last)",
      "\u001b[0;32m<ipython-input-13-ddde86392cb4>\u001b[0m in \u001b[0;36m<module>\u001b[0;34m\u001b[0m\n\u001b[0;32m----> 1\u001b[0;31m \u001b[0mf2\u001b[0m\u001b[0;34m(\u001b[0m\u001b[0;36m3\u001b[0m\u001b[0;34m)\u001b[0m\u001b[0;34m\u001b[0m\u001b[0;34m\u001b[0m\u001b[0m\n\u001b[0m",
      "\u001b[0;32m<ipython-input-12-9b6f9a7ee13e>\u001b[0m in \u001b[0;36mf2\u001b[0;34m(a)\u001b[0m\n\u001b[1;32m      2\u001b[0m \u001b[0;32mdef\u001b[0m \u001b[0mf2\u001b[0m\u001b[0;34m(\u001b[0m\u001b[0ma\u001b[0m\u001b[0;34m)\u001b[0m\u001b[0;34m:\u001b[0m\u001b[0;34m\u001b[0m\u001b[0;34m\u001b[0m\u001b[0m\n\u001b[1;32m      3\u001b[0m     \u001b[0mprint\u001b[0m\u001b[0;34m(\u001b[0m\u001b[0ma\u001b[0m\u001b[0;34m)\u001b[0m\u001b[0;34m\u001b[0m\u001b[0;34m\u001b[0m\u001b[0m\n\u001b[0;32m----> 4\u001b[0;31m     \u001b[0mprint\u001b[0m\u001b[0;34m(\u001b[0m\u001b[0mb\u001b[0m\u001b[0;34m)\u001b[0m\u001b[0;34m\u001b[0m\u001b[0;34m\u001b[0m\u001b[0m\n\u001b[0m\u001b[1;32m      5\u001b[0m     \u001b[0mb\u001b[0m \u001b[0;34m=\u001b[0m \u001b[0;36m9\u001b[0m\u001b[0;34m\u001b[0m\u001b[0;34m\u001b[0m\u001b[0m\n",
      "\u001b[0;31mUnboundLocalError\u001b[0m: local variable 'b' referenced before assignment"
     ]
    }
   ],
   "source": [
    "f2(3)"
   ]
  },
  {
   "cell_type": "markdown",
   "id": "a7e6d858-8128-4947-a369-38d6cfe5c9b1",
   "metadata": {},
   "source": [
    "Note that the output starts with 3, which proves that the `print(a)` statement was executed. But `print(b)` never runs. This might be surprising since there is a global variable b and the assignment to the local b is made after `print(b)`.\n",
    "\n",
    "However, when Python compiles the body of the function, it decides that b is a local variable because it is assigned within the function. The generated bytecode reflects this decision and will try to fetch b from the local environment. Later, when the call `f2(3)` is made, the body of `f2` fetches and prints the value of the local variable a, but when trying to fetch the value of local variable b, it discovers that b is unbound.\n",
    "\n",
    "This is not a bug, but a design choice. Python does not require you to declare variables, but assumes that a variable assigned in the body of a function is local. This is much better than the behavior of JavaScript, which does not require variable declarations either, but if you forget to declare that a variable is local (with var), you may clobber a global variable without knowing.\n",
    "\n",
    "If we want the interpreter to treat b as a global variable in spite of the assignment within the function, we use the `global` declaration."
   ]
  },
  {
   "cell_type": "code",
   "execution_count": 14,
   "id": "f81025eb-79d2-428b-af02-359ea347cad0",
   "metadata": {},
   "outputs": [],
   "source": [
    "def f3(a):\n",
    "    global b\n",
    "    print(a)\n",
    "    print(b)\n",
    "    b = 9"
   ]
  },
  {
   "cell_type": "code",
   "execution_count": 15,
   "id": "a8b2f2db-4d04-4176-8556-0f942bc58592",
   "metadata": {},
   "outputs": [
    {
     "name": "stdout",
     "output_type": "stream",
     "text": [
      "3\n",
      "6\n"
     ]
    }
   ],
   "source": [
    "f3(3)"
   ]
  },
  {
   "cell_type": "code",
   "execution_count": 16,
   "id": "c58e00a4-9dbe-42bb-8c1e-e9aa03ab86c3",
   "metadata": {},
   "outputs": [
    {
     "data": {
      "text/plain": [
       "9"
      ]
     },
     "execution_count": 16,
     "metadata": {},
     "output_type": "execute_result"
    }
   ],
   "source": [
    "b"
   ]
  },
  {
   "cell_type": "code",
   "execution_count": 17,
   "id": "84d802c4-d88a-4034-8cff-1df1b441e01a",
   "metadata": {},
   "outputs": [
    {
     "name": "stdout",
     "output_type": "stream",
     "text": [
      "3\n",
      "9\n"
     ]
    }
   ],
   "source": [
    "f3(3)"
   ]
  },
  {
   "cell_type": "markdown",
   "id": "89c67ca7-12ac-43e6-930d-1bb1176def5f",
   "metadata": {},
   "source": [
    "<h3>Closures</h3>\n",
    "\n",
    "Closures are sometimes confused with anonymous functions. Defining functions inside functions is not so common, until you start using anonymous functions. And closures only matter when you have nested functions.\n",
    "\n",
    "A closure is a function with an extended scope that encompasses nonglobal variables referenced in the body of the function but not defined there. It does not matter whether the function is anonymous or not; what matters is that it can access nonglobal variables that are defined outside of its body."
   ]
  },
  {
   "cell_type": "code",
   "execution_count": 18,
   "id": "764db8ad-63dd-47a1-8c8c-016852052018",
   "metadata": {},
   "outputs": [],
   "source": [
    "class Averager():\n",
    "\n",
    "    def __init__(self):\n",
    "        self.series = []\n",
    "\n",
    "    def __call__(self, new_value):\n",
    "        self.series.append(new_value)\n",
    "        total = sum(self.series)\n",
    "        return total / len(self.series)"
   ]
  },
  {
   "cell_type": "code",
   "execution_count": 19,
   "id": "993c2daf-575b-4597-b577-fdda49114f03",
   "metadata": {},
   "outputs": [
    {
     "data": {
      "text/plain": [
       "10.0"
      ]
     },
     "execution_count": 19,
     "metadata": {},
     "output_type": "execute_result"
    }
   ],
   "source": [
    "avg = Averager()\n",
    "avg(10)"
   ]
  },
  {
   "cell_type": "code",
   "execution_count": 20,
   "id": "abc764a5-937d-476e-aeff-9cbe9c70ed98",
   "metadata": {},
   "outputs": [
    {
     "data": {
      "text/plain": [
       "10.5"
      ]
     },
     "execution_count": 20,
     "metadata": {},
     "output_type": "execute_result"
    }
   ],
   "source": [
    "avg(11)"
   ]
  },
  {
   "cell_type": "code",
   "execution_count": 21,
   "id": "e66d4b8e-d554-4c18-9d05-5a6d98c1f8eb",
   "metadata": {},
   "outputs": [
    {
     "data": {
      "text/plain": [
       "11.0"
      ]
     },
     "execution_count": 21,
     "metadata": {},
     "output_type": "execute_result"
    }
   ],
   "source": [
    "avg(12)"
   ]
  },
  {
   "cell_type": "code",
   "execution_count": 22,
   "id": "b7605bee-f05c-4172-989b-208fe5129f15",
   "metadata": {},
   "outputs": [],
   "source": [
    "def make_averager():\n",
    "    series = []\n",
    "\n",
    "    def averager(new_value):\n",
    "        series.append(new_value)\n",
    "        total = sum(series)\n",
    "        return total / len(series)\n",
    "\n",
    "    return averager"
   ]
  },
  {
   "cell_type": "code",
   "execution_count": 23,
   "id": "1a7a65e8-56e6-416e-9ad9-9a50d71f0628",
   "metadata": {},
   "outputs": [
    {
     "data": {
      "text/plain": [
       "10.0"
      ]
     },
     "execution_count": 23,
     "metadata": {},
     "output_type": "execute_result"
    }
   ],
   "source": [
    "avg = make_averager()\n",
    "avg(10)"
   ]
  },
  {
   "cell_type": "code",
   "execution_count": 24,
   "id": "35b5bc64-3805-429c-8367-2215a4a19b47",
   "metadata": {},
   "outputs": [
    {
     "data": {
      "text/plain": [
       "10.5"
      ]
     },
     "execution_count": 24,
     "metadata": {},
     "output_type": "execute_result"
    }
   ],
   "source": [
    "avg(11)"
   ]
  },
  {
   "cell_type": "code",
   "execution_count": 25,
   "id": "dd60b1aa-4a36-4064-a875-1c584c8d7302",
   "metadata": {},
   "outputs": [
    {
     "data": {
      "text/plain": [
       "11.0"
      ]
     },
     "execution_count": 25,
     "metadata": {},
     "output_type": "execute_result"
    }
   ],
   "source": [
    "avg(12)"
   ]
  },
  {
   "cell_type": "markdown",
   "id": "00b2d3bf-65f1-49b5-a0aa-778a9e538420",
   "metadata": {},
   "source": [
    "Note the similarities in these two approaches. We can call `Averager()` or `make_averager()` to get a callable object `avg` that will update the historical series and calculate the current mean. \n",
    "\n",
    "The avg of the `Averager` class keeps the history in the `self.series` instance attribute. But where does the avg function in the second example find the series? The series is a local variable of `make_averager()` because the series = [] initialization happens in the body of that function. But when avg(10) is called, `make_averager` has already returned, and its local scope is long gone. \n",
    "\n",
    "Within averager, series is a <i>free variable</i>. This is a technical term meaning a variable that is not bound in the local scope.\n",
    "\n",
    "Inspecting the returned `averager` object shows how Python keeps the names of local and free variables in the `__code__` attribute that represents the compiled body of the function.\n",
    "\n"
   ]
  },
  {
   "cell_type": "code",
   "execution_count": 26,
   "id": "d795ee56-9c8e-457d-a2e8-eae5bb4e3fd2",
   "metadata": {},
   "outputs": [
    {
     "data": {
      "text/plain": [
       "('new_value', 'total')"
      ]
     },
     "execution_count": 26,
     "metadata": {},
     "output_type": "execute_result"
    }
   ],
   "source": [
    "avg.__code__.co_varnames"
   ]
  },
  {
   "cell_type": "code",
   "execution_count": 27,
   "id": "3ccf3cd1-a0e4-4f6c-8cc1-75e4301e4755",
   "metadata": {},
   "outputs": [
    {
     "data": {
      "text/plain": [
       "('series',)"
      ]
     },
     "execution_count": 27,
     "metadata": {},
     "output_type": "execute_result"
    }
   ],
   "source": [
    "avg.__code__.co_freevars"
   ]
  },
  {
   "cell_type": "markdown",
   "id": "2b270548-fdac-4672-a5a3-13f3eb8f8f22",
   "metadata": {},
   "source": [
    "The binding for series is kept in the `__closure__` attribute of the returned function avg. Each item in `avg.__closure__` corresponds to a name in `avg.__code__.co_freevars`. These items are `cells`, and they have an attribute `cell_contents` where the actual value can be found."
   ]
  },
  {
   "cell_type": "code",
   "execution_count": 28,
   "id": "392d0e5d-f32e-4346-a0b1-d273a0a0fe37",
   "metadata": {},
   "outputs": [
    {
     "data": {
      "text/plain": [
       "(<cell at 0x7f87f054f3d0: list object at 0x7f87f05733c0>,)"
      ]
     },
     "execution_count": 28,
     "metadata": {},
     "output_type": "execute_result"
    }
   ],
   "source": [
    "avg.__closure__"
   ]
  },
  {
   "cell_type": "code",
   "execution_count": 29,
   "id": "859e4234-20f5-4e14-9bd8-7d9e1a6d6ac1",
   "metadata": {},
   "outputs": [
    {
     "data": {
      "text/plain": [
       "[10, 11, 12]"
      ]
     },
     "execution_count": 29,
     "metadata": {},
     "output_type": "execute_result"
    }
   ],
   "source": [
    "avg.__closure__[0].cell_contents"
   ]
  },
  {
   "cell_type": "markdown",
   "id": "84aeb863-9d8a-457c-b508-5fdd1df07b0d",
   "metadata": {},
   "source": [
    "In summary, a closure is a function that retains the bindings of the free variables that exist when the function is defined, so that they can be used later when the function is invoked and the defining scope is no longer available.\n",
    "\n",
    "Note that the only situation in which a function may need to deal with external variables that are nonglobal is when it is nested in another function."
   ]
  },
  {
   "cell_type": "markdown",
   "id": "18e0fe4c-263c-4ca5-99ba-cf5b8e1e24d5",
   "metadata": {},
   "source": [
    "<h3>The nonlocal Declaration</h3>\n",
    "\n",
    "The previous implementation of `make_averager` was not efficient. A better implementation would just store the total and the number of items so far, and compute the mean from these two numbers.\n",
    "\n",
    "First, a broken implementation, just to make a point:"
   ]
  },
  {
   "cell_type": "code",
   "execution_count": 30,
   "id": "b8b91725-712d-4ace-882b-e4ccfa958fb1",
   "metadata": {},
   "outputs": [],
   "source": [
    "def make_averager():\n",
    "    count = 0\n",
    "    total = 0\n",
    "\n",
    "    def averager(new_val):\n",
    "        count += 1\n",
    "        total += new_val\n",
    "        return total / count\n",
    "\n",
    "    return averager"
   ]
  },
  {
   "cell_type": "code",
   "execution_count": 31,
   "id": "76ba93ca-512f-4e9e-9db6-03ff540efc50",
   "metadata": {},
   "outputs": [
    {
     "ename": "UnboundLocalError",
     "evalue": "local variable 'count' referenced before assignment",
     "output_type": "error",
     "traceback": [
      "\u001b[0;31m---------------------------------------------------------------------------\u001b[0m",
      "\u001b[0;31mUnboundLocalError\u001b[0m                         Traceback (most recent call last)",
      "\u001b[0;32m<ipython-input-31-b5a6bb6dc4cd>\u001b[0m in \u001b[0;36m<module>\u001b[0;34m\u001b[0m\n\u001b[1;32m      1\u001b[0m \u001b[0mavg\u001b[0m \u001b[0;34m=\u001b[0m \u001b[0mmake_averager\u001b[0m\u001b[0;34m(\u001b[0m\u001b[0;34m)\u001b[0m\u001b[0;34m\u001b[0m\u001b[0;34m\u001b[0m\u001b[0m\n\u001b[0;32m----> 2\u001b[0;31m \u001b[0mavg\u001b[0m\u001b[0;34m(\u001b[0m\u001b[0;36m10\u001b[0m\u001b[0;34m)\u001b[0m\u001b[0;34m\u001b[0m\u001b[0;34m\u001b[0m\u001b[0m\n\u001b[0m",
      "\u001b[0;32m<ipython-input-30-c328a8233f77>\u001b[0m in \u001b[0;36maverager\u001b[0;34m(new_val)\u001b[0m\n\u001b[1;32m      4\u001b[0m \u001b[0;34m\u001b[0m\u001b[0m\n\u001b[1;32m      5\u001b[0m     \u001b[0;32mdef\u001b[0m \u001b[0maverager\u001b[0m\u001b[0;34m(\u001b[0m\u001b[0mnew_val\u001b[0m\u001b[0;34m)\u001b[0m\u001b[0;34m:\u001b[0m\u001b[0;34m\u001b[0m\u001b[0;34m\u001b[0m\u001b[0m\n\u001b[0;32m----> 6\u001b[0;31m         \u001b[0mcount\u001b[0m \u001b[0;34m+=\u001b[0m \u001b[0;36m1\u001b[0m\u001b[0;34m\u001b[0m\u001b[0;34m\u001b[0m\u001b[0m\n\u001b[0m\u001b[1;32m      7\u001b[0m         \u001b[0mtotal\u001b[0m \u001b[0;34m+=\u001b[0m \u001b[0mnew_val\u001b[0m\u001b[0;34m\u001b[0m\u001b[0;34m\u001b[0m\u001b[0m\n\u001b[1;32m      8\u001b[0m         \u001b[0;32mreturn\u001b[0m \u001b[0mtotal\u001b[0m \u001b[0;34m/\u001b[0m \u001b[0mcount\u001b[0m\u001b[0;34m\u001b[0m\u001b[0;34m\u001b[0m\u001b[0m\n",
      "\u001b[0;31mUnboundLocalError\u001b[0m: local variable 'count' referenced before assignment"
     ]
    }
   ],
   "source": [
    "avg = make_averager()\n",
    "avg(10)"
   ]
  },
  {
   "cell_type": "markdown",
   "id": "20184e1c-0a12-440d-a62f-10940ddec78f",
   "metadata": {},
   "source": [
    "The problem is that the statement `count += 1` actually means the same as `count = count + 1`. We are actually assigning to `count` in the body of `averager`, and that makes it a local variable. The same problem affects the `total` variable.\n",
    "\n",
    "We didn't have this problem earlier because we never assigned to the `series` name, we called `series.append`. So we took advantage of the fact that lists are mutable.\n",
    "\n",
    "But with immutable types like numbers, strings, tuples, etc., all you can do is read, but never update. If you try to rebind them, as in `count = count + 1`, then you are implicitly creating a local variable `count`. It is no longer a free variable, and therefore it is not saved in the closure.\n",
    "\n",
    "To work around this, the `nonlocal` declaration was introduced in Python 3. It lets you flag a variable as a free variable even when it is assigned to a new value within the function. If a new value is assigned to a `nonlocal` variable, the binding stored in the closure is changed. A correct implementation of our newest `make_averager` looks like this:"
   ]
  },
  {
   "cell_type": "code",
   "execution_count": 32,
   "id": "8a6c8cc4-316d-46c2-aeb9-73eeafedd628",
   "metadata": {},
   "outputs": [],
   "source": [
    "def make_averager():\n",
    "    count = 0\n",
    "    total = 0\n",
    "\n",
    "    def averager(new_val):\n",
    "        nonlocal count, total\n",
    "        count += 1\n",
    "        total += new_val\n",
    "        return total / count\n",
    "\n",
    "    return averager"
   ]
  },
  {
   "cell_type": "code",
   "execution_count": 33,
   "id": "596e51c0-92e5-4705-9957-1967afbc9001",
   "metadata": {},
   "outputs": [
    {
     "data": {
      "text/plain": [
       "10.0"
      ]
     },
     "execution_count": 33,
     "metadata": {},
     "output_type": "execute_result"
    }
   ],
   "source": [
    "avg = make_averager()\n",
    "avg(10)"
   ]
  },
  {
   "cell_type": "code",
   "execution_count": 34,
   "id": "5ded0797-c2c5-4904-a4c3-695985c92c31",
   "metadata": {},
   "outputs": [
    {
     "data": {
      "text/plain": [
       "11.0"
      ]
     },
     "execution_count": 34,
     "metadata": {},
     "output_type": "execute_result"
    }
   ],
   "source": [
    "avg(12)"
   ]
  },
  {
   "cell_type": "markdown",
   "id": "2ee99567-8c12-4b3f-9b36-a7b4edfc5203",
   "metadata": {},
   "source": [
    "The workaround for not having `nonlocal` in Python 2 is to store the variables the inner functions need to change (count, total in this example) as items or attributes of some mutable object, like a dict or simple instance, and bind that object to a free variable."
   ]
  },
  {
   "cell_type": "code",
   "execution_count": 35,
   "id": "f193963e-8418-4ac2-902e-69456359062a",
   "metadata": {},
   "outputs": [],
   "source": [
    "# Implement a simple decorator\n",
    "# Clock every invocation of the decorated function and print elapsed time, args, and result\n",
    "import time\n",
    "\n",
    "def clock(func):\n",
    "    def clocked(*args):\n",
    "        t0 = time.perf_counter()\n",
    "        result = func(*args)\n",
    "        elapsed = time.perf_counter() - t0\n",
    "        name = func.__name__\n",
    "        arg_str = ', '.join(repr(arg) for arg in args)\n",
    "        print('[%0.8fs] %s(%s) -> %r' % (elapsed, name, arg_str, result))\n",
    "        return result\n",
    "    return clocked"
   ]
  },
  {
   "cell_type": "code",
   "execution_count": 36,
   "id": "041c228a-5903-4ed3-ae0e-585ea2949eb6",
   "metadata": {},
   "outputs": [
    {
     "name": "stdout",
     "output_type": "stream",
     "text": [
      "**************************************** Calling snooze(.123)\n",
      "[0.12347717s] snooze(0.123) -> None\n",
      "**************************************** Calling factorial(6)\n",
      "[0.00000046s] factorial(1) -> 1\n",
      "[0.00017333s] factorial(2) -> 2\n",
      "[0.00018550s] factorial(3) -> 6\n",
      "[0.00019279s] factorial(4) -> 24\n",
      "[0.00020258s] factorial(5) -> 120\n",
      "[0.00021996s] factorial(6) -> 720\n",
      "6! = 720\n"
     ]
    }
   ],
   "source": [
    "@clock\n",
    "def snooze(seconds):\n",
    "    time.sleep(seconds)\n",
    "\n",
    "@clock\n",
    "def factorial(n):\n",
    "    return 1 if n < 2 else n*factorial(n-1)\n",
    "\n",
    "if __name__ == '__main__':\n",
    "    print('*' * 40, 'Calling snooze(.123)')\n",
    "    snooze(.123)\n",
    "    print('*' * 40, 'Calling factorial(6)')\n",
    "    print('6! =', factorial(6))"
   ]
  },
  {
   "cell_type": "markdown",
   "id": "c6dff14a-4b41-43a3-9c9d-9706809aa685",
   "metadata": {},
   "source": [
    "<h3>How It Works</h3>\n",
    "\n",
    "Recall that the `@clock` decorator above `def factorial(n)` is actually equivalent to `factorial = clock(factorial)`. Clock gets the factorial function as its func argument. It then creates the `clocked` function, which the Python interpreter assigns to `factorial` behind the scenes. In fact, you might check the `__name__` of factorial:"
   ]
  },
  {
   "cell_type": "code",
   "execution_count": 37,
   "id": "c628357b-7194-4f34-ac2d-211bf3bb0b4a",
   "metadata": {},
   "outputs": [
    {
     "data": {
      "text/plain": [
       "'clocked'"
      ]
     },
     "execution_count": 37,
     "metadata": {},
     "output_type": "execute_result"
    }
   ],
   "source": [
    "factorial.__name__"
   ]
  },
  {
   "cell_type": "markdown",
   "id": "ea821717-28ae-4fa4-bf42-f8f21b06c07e",
   "metadata": {},
   "source": [
    "So you can see here that factorial actually holds a reference to the clocked function. Each time factorial(n) is called, clocked(n) gets executed.\n",
    "\n",
    "`clocked` does the following:\n",
    "1. Records the initial time t0\n",
    "2. Calls the original factorial, saving the result\n",
    "3. Computes the elapsed time\n",
    "4. Formats and prints the collected data\n",
    "5. Retruns the result saved in step 2\n",
    "\n",
    "This is the typical behavior of a decorator: it replaces the decorated function with a new function that accepts the same arguments and (usually) returns whatever the decorated function was supposed to return, while also doing some extra processing."
   ]
  },
  {
   "cell_type": "markdown",
   "id": "d7953b26-fb9e-47c4-9e9c-6584b3e10e6d",
   "metadata": {},
   "source": [
    "<h3>Decorators in the Standard Library</h3>\n",
    "\n",
    "Python has 3 built-in functions that are designed to decorate methods: `property, classmethod, staticmethod`. Another frequently seen decorator is `functools.wraps`, a helper function for building well-behaved decorators. Two of the most interesting decorators in the standard library are `lru_cache` and the (new in Python 3.4) `singledispatch`.\n",
    "\n",
    "`functools.lru_cache` is a very practical decorator. It implements memoization: an optimization technique that works by saving the results of previous invocations of an expensive function, avoiding repeat computations on previously used arguments. The letters LRU stand for Last Recently Used, meaning that the growth of the cache is limited by discarding the entries that have not been read for a while.\n",
    "\n",
    "A good demonstration is to apply `lru_cache` to the painfully slow recursive function to generate the <i>n</i>th number in the Fibonacci sequence:"
   ]
  },
  {
   "cell_type": "code",
   "execution_count": 38,
   "id": "f5669eff-f40f-4782-a157-6ebad5df4653",
   "metadata": {},
   "outputs": [
    {
     "name": "stdout",
     "output_type": "stream",
     "text": [
      "[0.00000037s] fibonacci(0) -> 0\n",
      "[0.00000025s] fibonacci(1) -> 1\n",
      "[0.00006792s] fibonacci(2) -> 1\n",
      "[0.00000025s] fibonacci(1) -> 1\n",
      "[0.00000033s] fibonacci(0) -> 0\n",
      "[0.00000017s] fibonacci(1) -> 1\n",
      "[0.00003742s] fibonacci(2) -> 1\n",
      "[0.00007379s] fibonacci(3) -> 2\n",
      "[0.00017650s] fibonacci(4) -> 3\n",
      "[0.00000017s] fibonacci(1) -> 1\n",
      "[0.00000021s] fibonacci(0) -> 0\n",
      "[0.00000017s] fibonacci(1) -> 1\n",
      "[0.00001700s] fibonacci(2) -> 1\n",
      "[0.00003954s] fibonacci(3) -> 2\n",
      "[0.00000017s] fibonacci(0) -> 0\n",
      "[0.00000017s] fibonacci(1) -> 1\n",
      "[0.00001321s] fibonacci(2) -> 1\n",
      "[0.00000017s] fibonacci(1) -> 1\n",
      "[0.00000029s] fibonacci(0) -> 0\n",
      "[0.00000017s] fibonacci(1) -> 1\n",
      "[0.00001725s] fibonacci(2) -> 1\n",
      "[0.00004271s] fibonacci(3) -> 2\n",
      "[0.00007242s] fibonacci(4) -> 3\n",
      "[0.00012875s] fibonacci(5) -> 5\n",
      "[0.00032463s] fibonacci(6) -> 8\n",
      "8\n"
     ]
    }
   ],
   "source": [
    "@clock\n",
    "def fibonacci(n):\n",
    "    if n < 2:\n",
    "        return n\n",
    "    return fibonacci(n-2) + fibonacci(n-1)\n",
    "\n",
    "if __name__ == '__main__':\n",
    "    print(fibonacci(6))"
   ]
  },
  {
   "cell_type": "markdown",
   "id": "8dd9dd12-b6cf-4a0f-b10d-21b28caa534d",
   "metadata": {},
   "source": [
    "There is obvious waste: fibonacci(1) is called 8 times, fibonacci(2) 5 times, etc. If we add lru_cache, performance is much improved."
   ]
  },
  {
   "cell_type": "code",
   "execution_count": 40,
   "id": "922b06b2-4576-4a41-a5c2-020590ab17c9",
   "metadata": {},
   "outputs": [
    {
     "name": "stdout",
     "output_type": "stream",
     "text": [
      "[0.00000025s] fibonacci(0) -> 0\n",
      "[0.00000029s] fibonacci(1) -> 1\n",
      "[0.00005179s] fibonacci(2) -> 1\n",
      "[0.00000042s] fibonacci(3) -> 2\n",
      "[0.00007042s] fibonacci(4) -> 3\n",
      "[0.00000037s] fibonacci(5) -> 5\n",
      "[0.00026142s] fibonacci(6) -> 8\n",
      "8\n"
     ]
    }
   ],
   "source": [
    "import functools\n",
    "\n",
    "@functools.lru_cache() # stacked decorator: @lru_cache() is applied on the function returned by @clock\n",
    "@clock\n",
    "def fibonacci(n):\n",
    "    if n < 2:\n",
    "        return n\n",
    "    return fibonacci(n-2) + fibonacci(n-1)\n",
    "\n",
    "if __name__ == '__main__':\n",
    "    print(fibonacci(6))"
   ]
  },
  {
   "cell_type": "markdown",
   "id": "d47ceb20-2436-473e-84bb-b4318939543c",
   "metadata": {},
   "source": [
    "As an example of the performance difference, fibonacci(30) makes 31 calls with the `lru_cache()`, and over 2.6M calls without it (enough to freeze and crash jupyter notebook).\n",
    "\n",
    "Besides making silly recursive algorithms viable, `lru_cache` really shines in applications that need to fetch information from the web. It's important to note that `lru_cache` can be tuned by passing two optional arguments: maxsize and typed. Maxsize refers to how many call results are stored. Once full, older results are discarded to make room. For the best performance, maxsize should be a power of 2. The typed argument, if set to True, stores results of different argument types separately, i.e., distinguishing between float and integer arguments that are normally considered equal, like 1 and 1.0. Since `lru_cache` uses a dict to store results, and keys are made from positional and kw args used in the calls, all the args taken by the decorated function must be <i>hashable</i>."
   ]
  },
  {
   "cell_type": "code",
   "execution_count": 41,
   "id": "ab377b63-e8c6-4aef-93c1-f0f2741b0755",
   "metadata": {},
   "outputs": [],
   "source": [
    "import html\n",
    "\n",
    "def htmlize(obj):\n",
    "    content = html.escape(repr(obj))\n",
    "    return '<pre>{}</pre>'.format(content)"
   ]
  },
  {
   "cell_type": "code",
   "execution_count": 42,
   "id": "1b9955fb-83b7-4953-b121-f82212e646a4",
   "metadata": {},
   "outputs": [
    {
     "data": {
      "text/plain": [
       "'<pre>&lt;built-in function abs&gt;</pre>'"
      ]
     },
     "execution_count": 42,
     "metadata": {},
     "output_type": "execute_result"
    }
   ],
   "source": [
    "htmlize(abs)"
   ]
  },
  {
   "cell_type": "code",
   "execution_count": 43,
   "id": "1cb30932-11f8-4599-a07b-5465e920f3a0",
   "metadata": {},
   "outputs": [
    {
     "data": {
      "text/plain": [
       "'<pre>&#x27;Heimlich &amp; Co.\\\\n- a game&#x27;</pre>'"
      ]
     },
     "execution_count": 43,
     "metadata": {},
     "output_type": "execute_result"
    }
   ],
   "source": [
    "htmlize('Heimlich & Co.\\n- a game')"
   ]
  },
  {
   "cell_type": "code",
   "execution_count": 44,
   "id": "b48dcb0c-b447-4fd0-ae7a-614113a17d16",
   "metadata": {},
   "outputs": [
    {
     "data": {
      "text/plain": [
       "'<pre>42</pre>'"
      ]
     },
     "execution_count": 44,
     "metadata": {},
     "output_type": "execute_result"
    }
   ],
   "source": [
    "htmlize(42)"
   ]
  },
  {
   "cell_type": "code",
   "execution_count": 45,
   "id": "1dbd1657-a26c-4b2a-a925-71dfefe80fae",
   "metadata": {},
   "outputs": [
    {
     "name": "stdout",
     "output_type": "stream",
     "text": [
      "<pre>[&#x27;alpha&#x27;, 66, {1, 2, 3}]</pre>\n"
     ]
    }
   ],
   "source": [
    "print(htmlize(['alpha', 66, {3, 2, 1}]))"
   ]
  },
  {
   "cell_type": "markdown",
   "id": "7ce9b24f-1c6b-465b-bab0-0b1cba6caa09",
   "metadata": {},
   "source": [
    "Because we don't have method or function overloading in Python, we can't create variations of `htmlize` with different signatures for each data type we want to handle differently. A common solution would be to turn `htmlize` into a dispatch function with a chain of `if/elif/elif` calling specialized functions like `htmlize_str`, `htmlize_int`, etc. Over time, the `htmlize` dispatcher would become too big, and the coupling between it and the specialized functions would be very tight.\n",
    "\n",
    "The new `functools.singledispatch` decorator in Python 3.4 allows each module to contribute to the overall solution, and lets you easily provide a specialized function even for classes that you can't edit. If you decorate a plain function with `@singledispatch`, it becomes a <i>generic function</i>: a group of functions to perform the same operation in different ways, depending on the type of the first argument. Example:"
   ]
  },
  {
   "cell_type": "code",
   "execution_count": 49,
   "id": "02895cd2-c1dc-4e63-8cb3-145dfe02f1d0",
   "metadata": {},
   "outputs": [],
   "source": [
    "from functools import singledispatch\n",
    "from collections import abc\n",
    "import numbers\n",
    "import html\n",
    "\n",
    "@singledispatch\n",
    "def htmlize(obj):\n",
    "    content = html.escape(repr(obj))\n",
    "    return '<pre>{}</pre>'.format(content)\n",
    "\n",
    "@htmlize.register(str)\n",
    "def _(text):\n",
    "    content = html.escape(text).replace('\\n', '<br>\\n')\n",
    "    return '<p>{0}</p>'.format(content)\n",
    "\n",
    "@htmlize.register(numbers.Integral)\n",
    "def _(n):\n",
    "    return '<pre>{0} (0x{0:x})</pre>'.format(n)\n",
    "\n",
    "@htmlize.register(tuple)\n",
    "@htmlize.register(abc.MutableSequence)\n",
    "def _(seq):\n",
    "    inner = '</li>\\n<li>'.join(htmlize(item) for item in seq)\n",
    "    return '<ul>\\n<li>' + inner + '</li>\\n</ul>'"
   ]
  },
  {
   "cell_type": "code",
   "execution_count": 50,
   "id": "857a8949-d3b2-43d4-9956-f4cd75931b1b",
   "metadata": {},
   "outputs": [
    {
     "data": {
      "text/plain": [
       "'<p>abcd</p>'"
      ]
     },
     "execution_count": 50,
     "metadata": {},
     "output_type": "execute_result"
    }
   ],
   "source": [
    "htmlize('abcd')"
   ]
  },
  {
   "cell_type": "markdown",
   "id": "bd65f913-af52-469a-b2d5-ffbf2d58189d",
   "metadata": {},
   "source": [
    "`@singledispatch` marks the base function that handles the object type.\n",
    "\n",
    "Each specialized function is decorated with `@<base_function.register(type)`\n",
    "\n",
    "The name of the specialized functions is irrelevant; _ is a good choice to make this clear.\n",
    "\n",
    "For each additional type to receive special treatment, register a new function. `numbers.Integral` is a virtual superclass of int.\n",
    "\n",
    "You can stack several `register` decorators to support different types with the same function.\n",
    "\n",
    "When possible, register the specialized functions to handle ABCs (abstract classes) such as numbers.Integral and abc.MutableSequence instead of concrete implementations like int and list. This allows your code to support a greater variety of compatible types. "
   ]
  },
  {
   "cell_type": "markdown",
   "id": "fac7d53b-eb55-4f56-ba62-34fe56e32e3c",
   "metadata": {},
   "source": [
    "<h3>Stacked Decorators</h3>\n",
    "\n",
    "When two decorators `@d1` and `@d2` are applied to a function `f` in that order, the results is the same as\n",
    "\n",
    "`f = d1(d2(f))`"
   ]
  },
  {
   "cell_type": "code",
   "execution_count": 54,
   "id": "7260630e-699f-4d8c-bd13-c21935c6484d",
   "metadata": {},
   "outputs": [],
   "source": [
    "def d1(x):\n",
    "    pass\n",
    "\n",
    "def d2(x):\n",
    "    pass\n",
    "\n",
    "@d1\n",
    "@d2\n",
    "def f():\n",
    "    print('f')"
   ]
  },
  {
   "cell_type": "markdown",
   "id": "49f1fae7-fc18-40a7-b457-2c4835938cfc",
   "metadata": {},
   "source": [
    "<h3>Parameterized Decorators</h3>\n",
    "\n",
    "When parsing a decorator in source code, Python takes the decorated function and passes it as the first arg to the decorator function. So how do you make a decorator accept other arguments? The answer is: make a decorator factory that takes those args and returns a decorator, which is then applied to the function to be decorated. "
   ]
  },
  {
   "cell_type": "code",
   "execution_count": 55,
   "id": "4f2b1049-760d-459e-b8a4-d989cab44b9b",
   "metadata": {},
   "outputs": [
    {
     "name": "stdout",
     "output_type": "stream",
     "text": [
      "running register(<function f1 at 0x7f882038adc0>)\n",
      "running main()\n",
      "registry -> [<function f1 at 0x7f882038adc0>]\n",
      "running f1()\n"
     ]
    }
   ],
   "source": [
    "registry = []\n",
    "\n",
    "def register(func):\n",
    "    print('running register(%s)' % func)\n",
    "    registry.append(func)\n",
    "    return func\n",
    "\n",
    "@register\n",
    "def f1():\n",
    "    print('running f1()')\n",
    "\n",
    "print('running main()')\n",
    "print('registry ->', registry)\n",
    "f1()"
   ]
  },
  {
   "cell_type": "code",
   "execution_count": 56,
   "id": "9963a45d-67f7-4227-a886-2dde5ab981cb",
   "metadata": {},
   "outputs": [
    {
     "name": "stdout",
     "output_type": "stream",
     "text": [
      "running register(active=False)->decorate(<function f1 at 0x7f88203aeee0>)\n",
      "running register(active=True)->decorate(<function f2 at 0x7f882038aa60>)\n"
     ]
    }
   ],
   "source": [
    "registry = set()\n",
    "\n",
    "def register(active=True):\n",
    "    def decorate(func):\n",
    "        print('running register(active=%s)->decorate(%s)' % (active, func))\n",
    "        if active:\n",
    "            registry.add(func)\n",
    "        else:\n",
    "            registry.discard(func)\n",
    "\n",
    "        return func\n",
    "    return decorate\n",
    "\n",
    "@register(active=False)\n",
    "def f1():\n",
    "    print('running f1()')\n",
    "\n",
    "@register()\n",
    "def f2():\n",
    "    print('running f2()')\n",
    "\n",
    "def f3():\n",
    "    print('running f3()')"
   ]
  },
  {
   "cell_type": "markdown",
   "id": "83bfc1dc-94e1-47d4-b995-5a2e62246724",
   "metadata": {},
   "source": [
    "In order to enable/disable the function registration performed by `register`, make it accept an optional parameter which, if False, skips registering the decorated function. Conceptually the new `register` function is not a decorator but a decorator factory. When called, it returns the actual decorator that will be applied to the target function."
   ]
  },
  {
   "cell_type": "markdown",
   "id": "27f77afa-b17b-40a1-83cb-1b6c8925d419",
   "metadata": {},
   "source": [
    "<h3>The Parameterized Clock Decorator</h3>\n",
    "\n",
    "Add a feature to the previous clock decorator: users may pass a format string to control the ouptut of the decorated function.\n",
    "\n",
    "Clock is the parameterized decorator factory. Decorate is the actual decorator. Clocked wraps the decorator function.\n",
    "\n",
    "_result is the actual result of the decorated function.\n",
    "\n",
    "_args holds the actual arguments of clocked, while args is str used for display.\n",
    "\n",
    "results is str representation of _result, for display"
   ]
  },
  {
   "cell_type": "code",
   "execution_count": 60,
   "id": "d7150d6f-8c7f-41c8-9ce1-f7f4fc124f2b",
   "metadata": {},
   "outputs": [
    {
     "name": "stdout",
     "output_type": "stream",
     "text": [
      "[0.12457395s] snooze(0.123) -> None\n",
      "[0.12810707s] snooze(0.123) -> None\n",
      "[0.12450004s] snooze(0.123) -> None\n"
     ]
    }
   ],
   "source": [
    "import time\n",
    "\n",
    "DEFAULT_FMT = '[{elapsed:0.8f}s] {name}({args}) -> {result}'\n",
    "\n",
    "def clock(fmt=DEFAULT_FMT):\n",
    "    def decorate(func):\n",
    "        def clocked(*_args):\n",
    "            t0 = time.time()\n",
    "            _result = func(*_args)\n",
    "            elapsed = time.time() - t0\n",
    "            name = func.__name__\n",
    "            args = ', '.join(repr(arg) for arg in _args)\n",
    "            result = repr(_result)\n",
    "            print(fmt.format(**locals())) # **locals allows any var of clocked to be referenced in the fmt\n",
    "            return _result\n",
    "        return clocked\n",
    "    return decorate\n",
    "    \n",
    "if __name__ == '__main__':\n",
    "    \n",
    "    @clock()\n",
    "    def snooze(seconds):\n",
    "        time.sleep(seconds)\n",
    "        \n",
    "    for i in range(3):\n",
    "        snooze(.123)"
   ]
  },
  {
   "cell_type": "code",
   "execution_count": 61,
   "id": "be9d07a3-d0f8-40e3-bdbd-bc4080694c2a",
   "metadata": {},
   "outputs": [
    {
     "name": "stdout",
     "output_type": "stream",
     "text": [
      "snooze: 0.12806129455566406s\n",
      "snooze: 0.12380599975585938s\n",
      "snooze: 0.12804412841796875s\n"
     ]
    }
   ],
   "source": [
    "# Another exmaple\n",
    "\n",
    "@clock('{name}: {elapsed}s')\n",
    "def snooze(seconds):\n",
    "    time.sleep(seconds)\n",
    "\n",
    "for i in range(3):\n",
    "    snooze(.123)"
   ]
  },
  {
   "cell_type": "code",
   "execution_count": 62,
   "id": "05259074-4000-4be2-a1a3-5b78db0cdadf",
   "metadata": {},
   "outputs": [
    {
     "name": "stdout",
     "output_type": "stream",
     "text": [
      "snooze(0.123) dt=0.123s\n",
      "snooze(0.123) dt=0.128s\n",
      "snooze(0.123) dt=0.123s\n"
     ]
    }
   ],
   "source": [
    "@clock('{name}({args}) dt={elapsed:0.3f}s')\n",
    "def snooze(seconds):\n",
    "    time.sleep(seconds)\n",
    "\n",
    "for i in range(3):\n",
    "    snooze(.123)"
   ]
  },
  {
   "cell_type": "markdown",
   "id": "d5e7b1b0-5796-43de-8fc0-032e995f7f9e",
   "metadata": {},
   "source": [
    "In conclusion, decorators are best coded as classes implementing `__call__`, and not as functions as we have done here. This is certainly better for non-trivial decorators, but this is the easier way to explain the basic idea.\n",
    "\n",
    "Registration decorators, though simple in essence, have real applications in advanced Python frameworks.\n",
    "\n",
    "Parameterized decorators almost always involve at least two nested functions, maybe more if you want to use `@functools.wraps` to produce a decorator that provides better support for more advanced techniques. One such technique is stacked decorators, which we saw a couple examples of.\n",
    "\n",
    "We covered the difference between import time and runtime, variable scoping, closures, and then nonlocal declaration. Mastering closures and nonlocal is valuable not only for decorators, but also to code event-oriented programs for GUIs or asynchronous I/O with callbacks."
   ]
  },
  {
   "cell_type": "code",
   "execution_count": null,
   "id": "2b4a9d89-c35e-4689-87bb-7b1aba1f5c55",
   "metadata": {},
   "outputs": [],
   "source": []
  },
  {
   "cell_type": "code",
   "execution_count": null,
   "id": "278b8e50-0398-4620-931c-1d187dc34e03",
   "metadata": {},
   "outputs": [],
   "source": []
  },
  {
   "cell_type": "code",
   "execution_count": null,
   "id": "25011f29-9df5-4bf9-93e6-21270aedf3c8",
   "metadata": {},
   "outputs": [],
   "source": []
  }
 ],
 "metadata": {
  "kernelspec": {
   "display_name": "Python 3",
   "language": "python",
   "name": "python3"
  },
  "language_info": {
   "codemirror_mode": {
    "name": "ipython",
    "version": 3
   },
   "file_extension": ".py",
   "mimetype": "text/x-python",
   "name": "python",
   "nbconvert_exporter": "python",
   "pygments_lexer": "ipython3",
   "version": "3.8.8"
  }
 },
 "nbformat": 4,
 "nbformat_minor": 5
}
