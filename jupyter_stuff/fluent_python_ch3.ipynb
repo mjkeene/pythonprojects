{
 "cells": [
  {
   "cell_type": "markdown",
   "id": "441ba537",
   "metadata": {},
   "source": [
    "<h3>Dictionaries and Sets</h3>\n",
    "\n",
    "The `dict` type is not only widely used in programs, but also a fundamental part of the Python implementation. Module namespaces, class and instance attributes, and function keyword arguments are some of the fundamental constructs where dictionaries are deployed. The built-in functions live in `__builtins__.__dict__`.\n",
    "\n",
    "Python dicts are highly optimized. Hash tables are the engines behind Python's high-performance dicts.\n",
    "\n",
    "Sets are also implemented with hash tables, and will be covered in this notebook. Knowing how a hash table works is key to making the most of dictionaries and sets.\n",
    "\n"
   ]
  },
  {
   "cell_type": "code",
   "execution_count": 1,
   "id": "25d86253",
   "metadata": {},
   "outputs": [
    {
     "data": {
      "text/plain": [
       "True"
      ]
     },
     "execution_count": 1,
     "metadata": {},
     "output_type": "execute_result"
    }
   ],
   "source": [
    "# Using isinstance is better than checking whether a function arg is of dict type,\n",
    "# because then alternative mapping types can be used\n",
    "\n",
    "from collections import abc\n",
    "\n",
    "my_dict = {}\n",
    "isinstance(my_dict, abc.Mapping)"
   ]
  },
  {
   "cell_type": "markdown",
   "id": "c3249d86",
   "metadata": {},
   "source": [
    "<h3>What is Hashable?</h3>\n",
    "\n",
    "All mapping types in the standard library use the basic `dict` in their implementation, so they share the limitation that the keys must be <i>hashable</i> (the values don't need to be hashable, only the keys).\n",
    "\n",
    "From the [Python Glossary](https://docs.python.org/3/glossary.html#term-hashable):\n",
    "\n",
    "\"An object is hashable if it has a hash value which never changes during its lifetime (it needs a __hash__() method), and can be compared to other objects (it needs an __eq__() method). Hashable objects which compare equal must have the same hash value.\n",
    "\n",
    "Hashability makes an object usable as a dictionary key and a set member, because these data structures use the hash value internally.\n",
    "\n",
    "Most of Python’s immutable built-in objects are hashable; mutable containers (such as lists or dictionaries) are not; immutable containers (such as tuples and frozensets) are only hashable if their elements are hashable. Objects which are instances of user-defined classes are hashable by default. They all compare unequal (except with themselves), and their hash value is derived from their id().\"\n",
    "\n",
    "\n",
    "The atomic immutable types (`str, bytes,` numeric types) are all hashable. A `frozenset` is always hashable, because its elements must be hashable by definition. A tuple is only hashable if all items are hashable. See examples below."
   ]
  },
  {
   "cell_type": "code",
   "execution_count": 2,
   "id": "b0ffc431",
   "metadata": {},
   "outputs": [
    {
     "data": {
      "text/plain": [
       "-3907003130834322577"
      ]
     },
     "execution_count": 2,
     "metadata": {},
     "output_type": "execute_result"
    }
   ],
   "source": [
    "tt = (1, 2, (30, 40))\n",
    "hash(tt)"
   ]
  },
  {
   "cell_type": "code",
   "execution_count": 3,
   "id": "33405625",
   "metadata": {},
   "outputs": [
    {
     "ename": "TypeError",
     "evalue": "unhashable type: 'list'",
     "output_type": "error",
     "traceback": [
      "\u001b[0;31m---------------------------------------------------------------------------\u001b[0m",
      "\u001b[0;31mTypeError\u001b[0m                                 Traceback (most recent call last)",
      "\u001b[0;32m<ipython-input-3-768d755a54f6>\u001b[0m in \u001b[0;36m<module>\u001b[0;34m\u001b[0m\n\u001b[1;32m      1\u001b[0m \u001b[0mtl\u001b[0m \u001b[0;34m=\u001b[0m \u001b[0;34m(\u001b[0m\u001b[0;36m1\u001b[0m\u001b[0;34m,\u001b[0m \u001b[0;36m2\u001b[0m\u001b[0;34m,\u001b[0m \u001b[0;34m[\u001b[0m\u001b[0;36m30\u001b[0m\u001b[0;34m,\u001b[0m \u001b[0;36m40\u001b[0m\u001b[0;34m]\u001b[0m\u001b[0;34m)\u001b[0m \u001b[0;31m# list is mutable and is not hashable\u001b[0m\u001b[0;34m\u001b[0m\u001b[0;34m\u001b[0m\u001b[0m\n\u001b[0;32m----> 2\u001b[0;31m \u001b[0mhash\u001b[0m\u001b[0;34m(\u001b[0m\u001b[0mtl\u001b[0m\u001b[0;34m)\u001b[0m\u001b[0;34m\u001b[0m\u001b[0;34m\u001b[0m\u001b[0m\n\u001b[0m",
      "\u001b[0;31mTypeError\u001b[0m: unhashable type: 'list'"
     ]
    }
   ],
   "source": [
    "tl = (1, 2, [30, 40]) # list is mutable and is not hashable\n",
    "hash(tl)"
   ]
  },
  {
   "cell_type": "code",
   "execution_count": 4,
   "id": "4de66f95",
   "metadata": {},
   "outputs": [
    {
     "data": {
      "text/plain": [
       "5149391500123939311"
      ]
     },
     "execution_count": 4,
     "metadata": {},
     "output_type": "execute_result"
    }
   ],
   "source": [
    "tf = (1, 2, frozenset([30, 40])) # the list \n",
    "hash(tf)"
   ]
  },
  {
   "cell_type": "code",
   "execution_count": 5,
   "id": "fd00236f",
   "metadata": {},
   "outputs": [
    {
     "data": {
      "text/plain": [
       "True"
      ]
     },
     "execution_count": 5,
     "metadata": {},
     "output_type": "execute_result"
    }
   ],
   "source": [
    "# We can build dictionaries in several ways\n",
    "\n",
    "a = dict(one=1, two=2, three=3)\n",
    "b = {'one': 1, 'two': 2, 'three': 3}\n",
    "c = dict(zip(['one', 'two', 'three'], [1, 2, 3]))\n",
    "d = dict([('two', 2), ('one', 1), ('three', 3)])\n",
    "e = dict({'three': 3, 'one': 1, 'two': 2})\n",
    "a == b == c == d == e"
   ]
  },
  {
   "cell_type": "code",
   "execution_count": 6,
   "id": "d4244c5c",
   "metadata": {},
   "outputs": [
    {
     "data": {
      "text/plain": [
       "{'China': 86,\n",
       " 'India': 91,\n",
       " 'United States': 1,\n",
       " 'Indonesia': 62,\n",
       " 'Brazil': 55,\n",
       " 'Pakistan': 92,\n",
       " 'Bangladesh': 880,\n",
       " 'Nigeria': 234,\n",
       " 'Russia': 7,\n",
       " 'Japan': 81}"
      ]
     },
     "execution_count": 6,
     "metadata": {},
     "output_type": "execute_result"
    }
   ],
   "source": [
    "# dict Comprehensions or 'dictcomps' build dicts by producing key:val pair from iterable\n",
    "\n",
    "DIAL_CODES = [\n",
    "    (86, 'China'),\n",
    "    (91, 'India'),\n",
    "    (1, 'United States'),\n",
    "    (62, 'Indonesia'),\n",
    "    (55, 'Brazil'),\n",
    "    (92, 'Pakistan'),\n",
    "    (880, 'Bangladesh'),\n",
    "    (234, 'Nigeria'),\n",
    "    (7, 'Russia'),\n",
    "    (81, 'Japan'),\n",
    "]\n",
    "\n",
    "country_code = {country : code for code, country in DIAL_CODES}\n",
    "country_code"
   ]
  },
  {
   "cell_type": "code",
   "execution_count": 7,
   "id": "54131187",
   "metadata": {},
   "outputs": [
    {
     "data": {
      "text/plain": [
       "{1: 'UNITED STATES', 62: 'INDONESIA', 55: 'BRAZIL', 7: 'RUSSIA'}"
      ]
     },
     "execution_count": 7,
     "metadata": {},
     "output_type": "execute_result"
    }
   ],
   "source": [
    "{code : country.upper() for country, code in country_code.items() if code < 66}"
   ]
  },
  {
   "cell_type": "markdown",
   "id": "f6c2af7f",
   "metadata": {},
   "source": [
    "<h3>setdefault for missing keys</h3>\n",
    "\n",
    "`dict` access with d[k] raises an error when k is not an existing key. `d.get(k, default)` is an alternative for d[k] whenever a default value is more convenient than handling `KeyError`. However, when updating the value found, `get` is not ideal."
   ]
  },
  {
   "cell_type": "code",
   "execution_count": 8,
   "id": "b7ba0244",
   "metadata": {},
   "outputs": [
    {
     "name": "stdout",
     "output_type": "stream",
     "text": [
      "Beautiful [(3, 1)]\n",
      "better [(3, 14), (4, 13), (5, 11), (6, 12), (7, 9), (8, 11)]\n",
      "by [(1, 20)]\n",
      "complex [(5, 23)]\n",
      "Complex [(6, 1)]\n",
      "complicated [(6, 24)]\n",
      "counts [(9, 13)]\n",
      "dense [(8, 23)]\n",
      "Explicit [(4, 1)]\n",
      "Flat [(7, 1)]\n",
      "implicit [(4, 25)]\n",
      "is [(3, 11), (4, 10), (5, 8), (6, 9), (7, 6), (8, 8)]\n",
      "nested [(7, 21)]\n",
      "of [(1, 9)]\n",
      "Peters [(1, 27)]\n",
      "Python [(1, 12)]\n",
      "Readability [(9, 1)]\n",
      "Simple [(5, 1)]\n",
      "Sparse [(8, 1)]\n",
      "than [(3, 21), (4, 20), (5, 18), (6, 19), (7, 16), (8, 18)]\n",
      "The [(1, 1)]\n",
      "Tim [(1, 23)]\n",
      "ugly [(3, 26)]\n",
      "Zen [(1, 5)]\n"
     ]
    }
   ],
   "source": [
    "import sys\n",
    "import re\n",
    "\n",
    "WORD_RE = re.compile('\\w+')\n",
    "\n",
    "index = {}\n",
    "# Zen of Python (shortened version for readability)\n",
    "with open('/Users/mike/Desktop/Random/zen.txt', encoding='utf-8') as fp:\n",
    "    for line_no, line in enumerate(fp, 1):\n",
    "        for match in WORD_RE.finditer(line):\n",
    "            word = match.group()\n",
    "            column_no = match.start() + 1\n",
    "            location = (line_no, column_no)\n",
    "            # this part is ugly, coded like this to make the point\n",
    "            occurrences = index.get(word, [])\n",
    "            occurrences.append(location)\n",
    "            index[word] = occurrences\n",
    "            \n",
    "for word in sorted(index, key=str.upper):\n",
    "    print(word, index[word])"
   ]
  },
  {
   "cell_type": "code",
   "execution_count": 9,
   "id": "08eb07ac",
   "metadata": {},
   "outputs": [
    {
     "name": "stdout",
     "output_type": "stream",
     "text": [
      "Beautiful [(3, 1)]\n",
      "better [(3, 14), (4, 13), (5, 11), (6, 12), (7, 9), (8, 11)]\n",
      "by [(1, 20)]\n",
      "complex [(5, 23)]\n",
      "Complex [(6, 1)]\n",
      "complicated [(6, 24)]\n",
      "counts [(9, 13)]\n",
      "dense [(8, 23)]\n",
      "Explicit [(4, 1)]\n",
      "Flat [(7, 1)]\n",
      "implicit [(4, 25)]\n",
      "is [(3, 11), (4, 10), (5, 8), (6, 9), (7, 6), (8, 8)]\n",
      "nested [(7, 21)]\n",
      "of [(1, 9)]\n",
      "Peters [(1, 27)]\n",
      "Python [(1, 12)]\n",
      "Readability [(9, 1)]\n",
      "Simple [(5, 1)]\n",
      "Sparse [(8, 1)]\n",
      "than [(3, 21), (4, 20), (5, 18), (6, 19), (7, 16), (8, 18)]\n",
      "The [(1, 1)]\n",
      "Tim [(1, 23)]\n",
      "ugly [(3, 26)]\n",
      "Zen [(1, 5)]\n"
     ]
    }
   ],
   "source": [
    "# Same thing as above, but using setdefault to clean up the dictionary section\n",
    "\n",
    "import sys\n",
    "import re\n",
    "\n",
    "WORD_RE = re.compile('\\w+')\n",
    "\n",
    "index = {}\n",
    "with open('/Users/mike/Desktop/Random/zen.txt', encoding='utf-8') as fp:\n",
    "    for line_no, line in enumerate(fp, 1):\n",
    "        for match in WORD_RE.finditer(line):\n",
    "            word = match.group()\n",
    "            column_no = match.start() + 1\n",
    "            location = (line_no, column_no)\n",
    "            # this part is fixed with setdefault\n",
    "            index.setdefault(word, []).append(location)\n",
    "            \n",
    "            # old code\n",
    "#             occurrences = index.get(word, [])\n",
    "#             occurrences.append(location)\n",
    "#             index[word] = occurrences\n",
    "            \n",
    "for word in sorted(index, key=str.upper):\n",
    "    print(word, index[word])"
   ]
  },
  {
   "cell_type": "code",
   "execution_count": 10,
   "id": "3f4d1aba",
   "metadata": {},
   "outputs": [
    {
     "name": "stdout",
     "output_type": "stream",
     "text": [
      "Beautiful [(3, 1)]\n",
      "better [(3, 14), (4, 13), (5, 11), (6, 12), (7, 9), (8, 11)]\n",
      "by [(1, 20)]\n",
      "complex [(5, 23)]\n",
      "Complex [(6, 1)]\n",
      "complicated [(6, 24)]\n",
      "counts [(9, 13)]\n",
      "dense [(8, 23)]\n",
      "Explicit [(4, 1)]\n",
      "Flat [(7, 1)]\n",
      "implicit [(4, 25)]\n",
      "is [(3, 11), (4, 10), (5, 8), (6, 9), (7, 6), (8, 8)]\n",
      "nested [(7, 21)]\n",
      "of [(1, 9)]\n",
      "Peters [(1, 27)]\n",
      "Python [(1, 12)]\n",
      "Readability [(9, 1)]\n",
      "Simple [(5, 1)]\n",
      "Sparse [(8, 1)]\n",
      "than [(3, 21), (4, 20), (5, 18), (6, 19), (7, 16), (8, 18)]\n",
      "The [(1, 1)]\n",
      "Tim [(1, 23)]\n",
      "ugly [(3, 26)]\n",
      "Zen [(1, 5)]\n"
     ]
    }
   ],
   "source": [
    "# Same thing again, but using defaultdict instead of setdefault method\n",
    "\n",
    "import sys\n",
    "import re\n",
    "import collections\n",
    "\n",
    "WORD_RE = re.compile('\\w+')\n",
    "\n",
    "index = collections.defaultdict(list)\n",
    "with open('/Users/mike/Desktop/Random/zen.txt', encoding='utf-8') as fp:\n",
    "    for line_no, line in enumerate(fp, 1):\n",
    "        for match in WORD_RE.finditer(line):\n",
    "            word = match.group()\n",
    "            column_no = match.start() + 1\n",
    "            location = (line_no, column_no)\n",
    "            # defaultdict automatically creates the list with 'new-key' if 'new-key'\n",
    "            # doesn't already exist, so .append() always succeeds\n",
    "            index[word].append(location)\n",
    "            \n",
    "# print in alphabetical order\n",
    "for word in sorted(index, key=str.upper):\n",
    "    print(word, index[word])"
   ]
  },
  {
   "cell_type": "markdown",
   "id": "aa82b36f",
   "metadata": {},
   "source": [
    "The `default_factory` of a `defaultdict` is only invoked to provide default values for `__getitem__` calls, and not for other methods. For example, if `dd` is a `defaultdict`, and k is a missing key, `dd[k]` will call the `default_factory` to create a default value, but `dd.get(k)` still returns `None`.\n",
    "\n",
    "<h3>The __missing__ method</h3>\n",
    "\n",
    "Underlying the way mappings deal with missing keys is the aptly named `__missing__` method. This method is not defined in the base `dict` class, but `dict` is aware of it: if you subclass `dict` and provide a `__missing__` method, the standard `dict.__getitem__` will call it whenever a key is not found, instead of raising `KeyError`.\n",
    "\n",
    "Note that the presence of a `__missing__` method has no effect on the behavior of other methods that look up keys, such as `get` or `__contains__` (which implements the `in` operator). This is why the default_factory or `defaultdict` works only with `__getitem__`, as noted in the first paragraph."
   ]
  },
  {
   "cell_type": "code",
   "execution_count": 11,
   "id": "f3758799",
   "metadata": {},
   "outputs": [],
   "source": [
    "# Create a class that converts nonstring keys to str on lookup\n",
    "\n",
    "class StrKeyDict0(dict):         # inherit from dict\n",
    "    \n",
    "    def __missing__(self, key):\n",
    "        if isinstance(key, str): # check whether key is already a str, if it is,\n",
    "            raise KeyError(key)  # and is missing, raise KeyError\n",
    "        return self[str(key)]    # build str from key and look it up\n",
    "    \n",
    "    def get(self, key, default=None):\n",
    "        try:\n",
    "            return self[key]     # delegate to __getitem__ by using self[key] notation,\n",
    "        except KeyError:         # which gives __missing__ an opportunity to act.\n",
    "            return default       # if KeyError is raised, __missing__ already failed,\n",
    "                                 # so return the default\n",
    "        \n",
    "    def __contains__(self, key):\n",
    "        return key in self.keys() or str(key) in self.keys() # search for unmodified key,\n",
    "                                                             # then for a str built from key"
   ]
  },
  {
   "cell_type": "code",
   "execution_count": 12,
   "id": "37218c9d",
   "metadata": {},
   "outputs": [
    {
     "data": {
      "text/plain": [
       "'two'"
      ]
     },
     "execution_count": 12,
     "metadata": {},
     "output_type": "execute_result"
    }
   ],
   "source": [
    "# Test for item retrieval using 'd[key]' notation\n",
    "\n",
    "d = StrKeyDict0([('2', 'two'), ('4', 'four')])\n",
    "d['2']"
   ]
  },
  {
   "cell_type": "code",
   "execution_count": 13,
   "id": "8f30be05",
   "metadata": {},
   "outputs": [
    {
     "data": {
      "text/plain": [
       "'four'"
      ]
     },
     "execution_count": 13,
     "metadata": {},
     "output_type": "execute_result"
    }
   ],
   "source": [
    "d[4]"
   ]
  },
  {
   "cell_type": "code",
   "execution_count": 14,
   "id": "2d956df5",
   "metadata": {},
   "outputs": [
    {
     "ename": "KeyError",
     "evalue": "'1'",
     "output_type": "error",
     "traceback": [
      "\u001b[0;31m---------------------------------------------------------------------------\u001b[0m",
      "\u001b[0;31mKeyError\u001b[0m                                  Traceback (most recent call last)",
      "\u001b[0;32m<ipython-input-14-abe283337115>\u001b[0m in \u001b[0;36m<module>\u001b[0;34m\u001b[0m\n\u001b[0;32m----> 1\u001b[0;31m \u001b[0md\u001b[0m\u001b[0;34m[\u001b[0m\u001b[0;36m1\u001b[0m\u001b[0;34m]\u001b[0m\u001b[0;34m\u001b[0m\u001b[0;34m\u001b[0m\u001b[0m\n\u001b[0m",
      "\u001b[0;32m<ipython-input-11-d91a148d2e34>\u001b[0m in \u001b[0;36m__missing__\u001b[0;34m(self, key)\u001b[0m\n\u001b[1;32m      6\u001b[0m         \u001b[0;32mif\u001b[0m \u001b[0misinstance\u001b[0m\u001b[0;34m(\u001b[0m\u001b[0mkey\u001b[0m\u001b[0;34m,\u001b[0m \u001b[0mstr\u001b[0m\u001b[0;34m)\u001b[0m\u001b[0;34m:\u001b[0m \u001b[0;31m# check whether key is already a str, if it is,\u001b[0m\u001b[0;34m\u001b[0m\u001b[0;34m\u001b[0m\u001b[0m\n\u001b[1;32m      7\u001b[0m             \u001b[0;32mraise\u001b[0m \u001b[0mKeyError\u001b[0m\u001b[0;34m(\u001b[0m\u001b[0mkey\u001b[0m\u001b[0;34m)\u001b[0m  \u001b[0;31m# and is missing, raise KeyError\u001b[0m\u001b[0;34m\u001b[0m\u001b[0;34m\u001b[0m\u001b[0m\n\u001b[0;32m----> 8\u001b[0;31m         \u001b[0;32mreturn\u001b[0m \u001b[0mself\u001b[0m\u001b[0;34m[\u001b[0m\u001b[0mstr\u001b[0m\u001b[0;34m(\u001b[0m\u001b[0mkey\u001b[0m\u001b[0;34m)\u001b[0m\u001b[0;34m]\u001b[0m    \u001b[0;31m# build str from key and look it up\u001b[0m\u001b[0;34m\u001b[0m\u001b[0;34m\u001b[0m\u001b[0m\n\u001b[0m\u001b[1;32m      9\u001b[0m \u001b[0;34m\u001b[0m\u001b[0m\n\u001b[1;32m     10\u001b[0m     \u001b[0;32mdef\u001b[0m \u001b[0mget\u001b[0m\u001b[0;34m(\u001b[0m\u001b[0mself\u001b[0m\u001b[0;34m,\u001b[0m \u001b[0mkey\u001b[0m\u001b[0;34m,\u001b[0m \u001b[0mdefault\u001b[0m\u001b[0;34m=\u001b[0m\u001b[0;32mNone\u001b[0m\u001b[0;34m)\u001b[0m\u001b[0;34m:\u001b[0m\u001b[0;34m\u001b[0m\u001b[0;34m\u001b[0m\u001b[0m\n",
      "\u001b[0;32m<ipython-input-11-d91a148d2e34>\u001b[0m in \u001b[0;36m__missing__\u001b[0;34m(self, key)\u001b[0m\n\u001b[1;32m      5\u001b[0m     \u001b[0;32mdef\u001b[0m \u001b[0m__missing__\u001b[0m\u001b[0;34m(\u001b[0m\u001b[0mself\u001b[0m\u001b[0;34m,\u001b[0m \u001b[0mkey\u001b[0m\u001b[0;34m)\u001b[0m\u001b[0;34m:\u001b[0m\u001b[0;34m\u001b[0m\u001b[0;34m\u001b[0m\u001b[0m\n\u001b[1;32m      6\u001b[0m         \u001b[0;32mif\u001b[0m \u001b[0misinstance\u001b[0m\u001b[0;34m(\u001b[0m\u001b[0mkey\u001b[0m\u001b[0;34m,\u001b[0m \u001b[0mstr\u001b[0m\u001b[0;34m)\u001b[0m\u001b[0;34m:\u001b[0m \u001b[0;31m# check whether key is already a str, if it is,\u001b[0m\u001b[0;34m\u001b[0m\u001b[0;34m\u001b[0m\u001b[0m\n\u001b[0;32m----> 7\u001b[0;31m             \u001b[0;32mraise\u001b[0m \u001b[0mKeyError\u001b[0m\u001b[0;34m(\u001b[0m\u001b[0mkey\u001b[0m\u001b[0;34m)\u001b[0m  \u001b[0;31m# and is missing, raise KeyError\u001b[0m\u001b[0;34m\u001b[0m\u001b[0;34m\u001b[0m\u001b[0m\n\u001b[0m\u001b[1;32m      8\u001b[0m         \u001b[0;32mreturn\u001b[0m \u001b[0mself\u001b[0m\u001b[0;34m[\u001b[0m\u001b[0mstr\u001b[0m\u001b[0;34m(\u001b[0m\u001b[0mkey\u001b[0m\u001b[0;34m)\u001b[0m\u001b[0;34m]\u001b[0m    \u001b[0;31m# build str from key and look it up\u001b[0m\u001b[0;34m\u001b[0m\u001b[0;34m\u001b[0m\u001b[0m\n\u001b[1;32m      9\u001b[0m \u001b[0;34m\u001b[0m\u001b[0m\n",
      "\u001b[0;31mKeyError\u001b[0m: '1'"
     ]
    }
   ],
   "source": [
    "d[1]"
   ]
  },
  {
   "cell_type": "code",
   "execution_count": 15,
   "id": "fe0ce5a4",
   "metadata": {},
   "outputs": [
    {
     "data": {
      "text/plain": [
       "'two'"
      ]
     },
     "execution_count": 15,
     "metadata": {},
     "output_type": "execute_result"
    }
   ],
   "source": [
    "# Test for item retrieval using 'd.get(key)' notation\n",
    "\n",
    "d.get('2')"
   ]
  },
  {
   "cell_type": "code",
   "execution_count": 16,
   "id": "d229f689",
   "metadata": {},
   "outputs": [
    {
     "data": {
      "text/plain": [
       "'four'"
      ]
     },
     "execution_count": 16,
     "metadata": {},
     "output_type": "execute_result"
    }
   ],
   "source": [
    "d.get(4)"
   ]
  },
  {
   "cell_type": "code",
   "execution_count": 17,
   "id": "dbddbe82",
   "metadata": {},
   "outputs": [
    {
     "data": {
      "text/plain": [
       "'N/A'"
      ]
     },
     "execution_count": 17,
     "metadata": {},
     "output_type": "execute_result"
    }
   ],
   "source": [
    "d.get(1, 'N/A')"
   ]
  },
  {
   "cell_type": "code",
   "execution_count": 18,
   "id": "ba4ca056",
   "metadata": {},
   "outputs": [
    {
     "data": {
      "text/plain": [
       "True"
      ]
     },
     "execution_count": 18,
     "metadata": {},
     "output_type": "execute_result"
    }
   ],
   "source": [
    "2 in d"
   ]
  },
  {
   "cell_type": "code",
   "execution_count": 19,
   "id": "7cd8f41c",
   "metadata": {},
   "outputs": [
    {
     "data": {
      "text/plain": [
       "False"
      ]
     },
     "execution_count": 19,
     "metadata": {},
     "output_type": "execute_result"
    }
   ],
   "source": [
    "1 in d"
   ]
  },
  {
   "cell_type": "markdown",
   "id": "a53597f3",
   "metadata": {},
   "source": [
    "<h3>Variations of dict</h3>\n",
    "\n",
    "`collections.OrderedDict` maintains keys in insertion order, allowing iteration over items in a predictable order. The popitem method of an `OrderedDict` pops the first item by default, but if falled as `my_odict.popitem(last=True)`, it pops the last item added.\n",
    "\n",
    "`collections.ChainMap` holds a list of mappings that can be searched as one. The lookup is performed on each mapping order, and succeeds if the key is found in any of them. This is useful to interpreters for languages with nested scopes, where each mapping represents a scope context.\n",
    "\n",
    "`collections.Counter` is a mapping that holds an integer count for each key. Updating an existing key adds to its count. It has a `most_common([n])` method which returns an ordered list of tuples with the n most common items and their counts.\n",
    "\n",
    "`collections.UserDict` is a pure Python implementation of a mapping that works like a standard `dict`.\n",
    "\n",
    "While `OrderedDict, ChainMap, and Counter` are ready to use, `UserDict` is designed to be subclassed."
   ]
  },
  {
   "cell_type": "code",
   "execution_count": 20,
   "id": "00d43a96",
   "metadata": {},
   "outputs": [],
   "source": [
    "import builtins\n",
    "\n",
    "pylookup = collections.ChainMap(locals(), globals(), vars(builtins))"
   ]
  },
  {
   "cell_type": "code",
   "execution_count": 21,
   "id": "934f2ba7",
   "metadata": {},
   "outputs": [
    {
     "data": {
      "text/plain": [
       "Counter({'a': 5, 'b': 2, 'r': 2, 'c': 1, 'd': 1})"
      ]
     },
     "execution_count": 21,
     "metadata": {},
     "output_type": "execute_result"
    }
   ],
   "source": [
    "ct = collections.Counter('abracadabra')\n",
    "ct"
   ]
  },
  {
   "cell_type": "code",
   "execution_count": 22,
   "id": "1b8ce58c",
   "metadata": {},
   "outputs": [
    {
     "data": {
      "text/plain": [
       "Counter({'a': 10, 'b': 2, 'r': 2, 'c': 1, 'd': 1, 'z': 3})"
      ]
     },
     "execution_count": 22,
     "metadata": {},
     "output_type": "execute_result"
    }
   ],
   "source": [
    "ct.update('aaaazazz')\n",
    "ct"
   ]
  },
  {
   "cell_type": "code",
   "execution_count": 23,
   "id": "b9821751",
   "metadata": {},
   "outputs": [
    {
     "data": {
      "text/plain": [
       "[('a', 10), ('z', 3)]"
      ]
     },
     "execution_count": 23,
     "metadata": {},
     "output_type": "execute_result"
    }
   ],
   "source": [
    "ct.most_common(2)"
   ]
  },
  {
   "cell_type": "code",
   "execution_count": 24,
   "id": "bf5edbb3",
   "metadata": {},
   "outputs": [],
   "source": [
    "# It's almost always easier to extend UserDict rather than dict, because the built-in\n",
    "# has some implementation shortcuts that end up forcing us to override methods that\n",
    "# we can just inherit from UserDict with no problems."
   ]
  },
  {
   "cell_type": "code",
   "execution_count": 25,
   "id": "5d8f53c5",
   "metadata": {},
   "outputs": [],
   "source": [
    "import collections\n",
    "\n",
    "class StrKeyDict(collections.UserDict):  # StrKeyDict extends UserDict\n",
    "    \n",
    "    def __missing__(self, key):          # same __missing__ implementation as earlier\n",
    "        if isinstance(key, str):\n",
    "            raise KeyError(key)\n",
    "        return self[str(key)]\n",
    "    \n",
    "    def __contains__(self, key):\n",
    "        return str(key) in self.data     # __contains__ is simpler: assume all stored keys\n",
    "                                         # are str and we can check self.data instead of\n",
    "                                         # invoking self.keys() as in StrKeyDict0\n",
    "    \n",
    "    def __setitem__(self, key, item):\n",
    "        self.data[str(key)] = item       # convert any key to str\n"
   ]
  },
  {
   "cell_type": "code",
   "execution_count": 26,
   "id": "08379d94",
   "metadata": {},
   "outputs": [
    {
     "data": {
      "text/plain": [
       "mappingproxy({1: 'A'})"
      ]
     },
     "execution_count": 26,
     "metadata": {},
     "output_type": "execute_result"
    }
   ],
   "source": [
    "# Immutable mapping\n",
    "\n",
    "from types import MappingProxyType\n",
    "\n",
    "d = {1: 'A'}\n",
    "d_proxy = MappingProxyType(d)\n",
    "d_proxy"
   ]
  },
  {
   "cell_type": "code",
   "execution_count": 27,
   "id": "95a77b4f",
   "metadata": {},
   "outputs": [
    {
     "data": {
      "text/plain": [
       "'A'"
      ]
     },
     "execution_count": 27,
     "metadata": {},
     "output_type": "execute_result"
    }
   ],
   "source": [
    "d_proxy[1] # view the items in d through d_proxy"
   ]
  },
  {
   "cell_type": "code",
   "execution_count": 28,
   "id": "0fe26aa5",
   "metadata": {},
   "outputs": [
    {
     "ename": "TypeError",
     "evalue": "'mappingproxy' object does not support item assignment",
     "output_type": "error",
     "traceback": [
      "\u001b[0;31m---------------------------------------------------------------------------\u001b[0m",
      "\u001b[0;31mTypeError\u001b[0m                                 Traceback (most recent call last)",
      "\u001b[0;32m<ipython-input-28-365db46842f5>\u001b[0m in \u001b[0;36m<module>\u001b[0;34m\u001b[0m\n\u001b[0;32m----> 1\u001b[0;31m \u001b[0md_proxy\u001b[0m\u001b[0;34m[\u001b[0m\u001b[0;36m2\u001b[0m\u001b[0;34m]\u001b[0m \u001b[0;34m=\u001b[0m \u001b[0;34m'x'\u001b[0m \u001b[0;31m# changes cannot be made through d_proxy\u001b[0m\u001b[0;34m\u001b[0m\u001b[0;34m\u001b[0m\u001b[0m\n\u001b[0m",
      "\u001b[0;31mTypeError\u001b[0m: 'mappingproxy' object does not support item assignment"
     ]
    }
   ],
   "source": [
    "d_proxy[2] = 'x' # changes cannot be made through d_proxy"
   ]
  },
  {
   "cell_type": "code",
   "execution_count": 29,
   "id": "9e30c391",
   "metadata": {},
   "outputs": [
    {
     "data": {
      "text/plain": [
       "mappingproxy({1: 'A', 2: 'B'})"
      ]
     },
     "execution_count": 29,
     "metadata": {},
     "output_type": "execute_result"
    }
   ],
   "source": [
    "d[2] = 'B'\n",
    "d_proxy # d_proxy is dynamic: any change in d is reflected in it"
   ]
  },
  {
   "cell_type": "code",
   "execution_count": 30,
   "id": "00f845cb",
   "metadata": {},
   "outputs": [
    {
     "data": {
      "text/plain": [
       "'B'"
      ]
     },
     "execution_count": 30,
     "metadata": {},
     "output_type": "execute_result"
    }
   ],
   "source": [
    "d_proxy[2]"
   ]
  },
  {
   "cell_type": "markdown",
   "id": "88f8fa52",
   "metadata": {},
   "source": [
    "<h3>Sets</h3>\n",
    "\n",
    "Set elements must be hashable. The `set` type is not hashable, but `frozenset` is, so you can have `frozenset` elements inside a `set`.\n",
    "\n",
    "In addition to guaranteeing uniqueness, the set types implement the essential operations as infix operators, so given to sets, `a and b`, `a | b` returns their union, `a & b` returns the intersection, and `a - b` the difference. Smart use of set operations can reduce line count and runtime of Python programs, while also making code more readable by removing loops and conditional logic."
   ]
  },
  {
   "cell_type": "code",
   "execution_count": 31,
   "id": "f910074e",
   "metadata": {},
   "outputs": [
    {
     "data": {
      "text/plain": [
       "{'eggs', 'spam'}"
      ]
     },
     "execution_count": 31,
     "metadata": {},
     "output_type": "execute_result"
    }
   ],
   "source": [
    "# A set is a collection of unique objects\n",
    "\n",
    "l = ['spam', 'spam', 'eggs', 'spam']\n",
    "set(l)"
   ]
  },
  {
   "cell_type": "code",
   "execution_count": 32,
   "id": "f86e93ca",
   "metadata": {},
   "outputs": [
    {
     "data": {
      "text/plain": [
       "['spam', 'eggs']"
      ]
     },
     "execution_count": 32,
     "metadata": {},
     "output_type": "execute_result"
    }
   ],
   "source": [
    "list(set(l))"
   ]
  },
  {
   "cell_type": "code",
   "execution_count": 33,
   "id": "52a51b6a",
   "metadata": {},
   "outputs": [
    {
     "data": {
      "text/plain": [
       "1"
      ]
     },
     "execution_count": 33,
     "metadata": {},
     "output_type": "execute_result"
    }
   ],
   "source": [
    "# If you have a large set of email addresses (haystack) and smaller set of addresses\n",
    "# (the needles), you can easily count how many needles occur in the haystack\n",
    "\n",
    "needles = {'a@gmail.com', 'b@gmail.com'}\n",
    "haystack = {'a@gmail.com', 'c@gmail.com', 'e@hotmail.com', 'f@yahoo.com'}\n",
    "\n",
    "found = len(needles & haystack)\n",
    "found\n",
    "\n",
    "# This is the same as:\n",
    "# found = 0\n",
    "# for n in needles:\n",
    "#     if n in haystack:\n",
    "#         found += 1"
   ]
  },
  {
   "cell_type": "code",
   "execution_count": 34,
   "id": "90397524",
   "metadata": {},
   "outputs": [
    {
     "data": {
      "text/plain": [
       "frozenset({0, 1, 2, 3, 4, 5, 6, 7, 8, 9})"
      ]
     },
     "execution_count": 34,
     "metadata": {},
     "output_type": "execute_result"
    }
   ],
   "source": [
    "frozenset(range(10))"
   ]
  },
  {
   "cell_type": "code",
   "execution_count": 35,
   "id": "9750c2ad",
   "metadata": {},
   "outputs": [
    {
     "data": {
      "text/plain": [
       "{'#',\n",
       " '$',\n",
       " '%',\n",
       " '+',\n",
       " '<',\n",
       " '=',\n",
       " '>',\n",
       " '¢',\n",
       " '£',\n",
       " '¤',\n",
       " '¥',\n",
       " '§',\n",
       " '©',\n",
       " '¬',\n",
       " '®',\n",
       " '°',\n",
       " '±',\n",
       " 'µ',\n",
       " '¶',\n",
       " '×',\n",
       " '÷'}"
      ]
     },
     "execution_count": 35,
     "metadata": {},
     "output_type": "execute_result"
    }
   ],
   "source": [
    "# setcomp is similar to listcomp, but uses {} instead of ()\n",
    "\n",
    "from unicodedata import name\n",
    "\n",
    "{chr(i) for i in range(32, 256) if 'SIGN' in name(chr(i), '')}"
   ]
  },
  {
   "cell_type": "markdown",
   "id": "fdc26d25",
   "metadata": {},
   "source": [
    "<h3>Hash Tables in Dictionaries</h3>\n",
    "\n",
    "High-level overview of how Python uses a hash table to implement a `dict`. \n",
    "\n",
    "A hash table is a sparse array (i.e., an array that always has empty cells). The cells in a hash table are typically called \"buckets.\" In a `dict` hash table, there is a bucket for each item, and it contains two fields: a reference to the key, an da reference to the value of the item. Because all of the buckets have the same size, access to an individual bucket is done by offset.\n",
    "\n",
    "Python tries to keep at least 1/3 of the buckets empty; if the hash table becomes too crowded, it is copied to a new location with room for more buckets.\n",
    "\n",
    "To put an item in a hash table, the first step is to calculate the <i>hash value</i> of the item key, which is done with the `hash()` function.\n",
    "\n",
    "**hash() function**\n",
    "\n",
    "The `hash()` built-in function works directly with built-in types and falls back to calling `__hash__` for user-defined types. If two obejcts compare equal, their hash values must also be equal, otherwise the hash table algorithm does not work. For example, because `1 == 1.0` is True, `hash(1) == hash(1.0)` must also be True, even though the internal representation of an int and float are very different.\n",
    "\n",
    "To be effective as hash table indexes, hash values should scatter around the index space as much as possible. This means that, ideally, objects that are similar but not equal should have hash values that differ widely."
   ]
  },
  {
   "cell_type": "code",
   "execution_count": 36,
   "id": "2e37b140",
   "metadata": {},
   "outputs": [
    {
     "name": "stdout",
     "output_type": "stream",
     "text": [
      "1\n",
      "1\n",
      "230584300921345\n",
      "461168601842689\n",
      "691752902764033\n",
      "2\n"
     ]
    }
   ],
   "source": [
    "# the hash values vary widely even for slightly different numbers\n",
    "\n",
    "nums = [1, 1.0, 1.0001, 1.0002, 1.0003, 2]\n",
    "for num in nums:\n",
    "    print(hash(num))"
   ]
  },
  {
   "cell_type": "markdown",
   "id": "67d32c0d",
   "metadata": {},
   "source": [
    "<h3>Hash table algorithm</h3>\n",
    "\n",
    "To fetch a value at `my_dict[search_key]`, Python calls `hash(search_key)` to obtain the <i>hash value</i> of `search_key` and uses the least significant bits of that number as an offset to look up a bucket in the hash table (number of bits depends on the current size of the table). If the found bucket is empty, `KeyError` is raised. Otherwise, the found bucket has an item -- a found_key:found_value pair -- and then Python checks whether `search_key == found_key`. If they match, that was the item sought, and found_value is returned.\n",
    "\n",
    "However, if `search_key` and `found_key` do not match, this is a <i>hash collision</i>. This happens because a hash function maps arbitrary objects to a small number of bits, and the has table is also indexed with a subset of those bits. In order to resolve the collision, the algorithm then takes different bits in the hash, massages them in a particular way, and uses the result as an offset to look up a different bucket. If that is empty, `KeyError` is raised; if not, either the keys match and the item value is returned, or the collision resolution process is repeated.\n",
    "\n",
    "As a hash table grows, so does the number of hash bits used as bucket offsets, and this keeps the rate of collisions low.\n",
    "\n",
    "**Keys must be hashable objects**\n",
    "\n",
    "An object is hashable if all of these requirements are met:\n",
    "1. It supports the `hash()` function via a `hash()` method that always returns the same value over the lifetime of the object.\n",
    "2. It supports equality via an `eq()` method.\n",
    "3. If `a == b` is True, then `hash(a) == hash(b)` must also be True\n",
    "\n",
    "User-defined types are hashable by default because their hash value is their `id()` and they all compare not equal.\n",
    "\n",
    "Note: if you implement a class with a custom `__eq__` method, you must also implement a suitable `__hash__`, because you must always make sure that if `a == b` is True, then `hash(a) == hash(b)` is also True. Otherwis you are breaking an invariant of the hash table algorithm, and dicts and sets will not deal reliably with your objects.\n",
    "\n",
    "**memory overhead**\n",
    "Because a `dict` uses a hash table internally, which must be sparse to work, they are not space efficient. With a large quantity of records, it makes sense to store them in a list of tuples or named tuples instead of using a list of dictionaries in JSON style, with one dict per record. Replacing dicts with tuples reduces the memory usage in two ways: removing the overhead of one hash table per record, and by not storing the field names again with each record.\n",
    "\n",
    "Keep in mind we are talking about space optimizations. If you are dealing with a few million objects and your machine has gigabytes of RAM, you should postpone such optimizations until they are actually warranted. Optimization is the altar where maintainability is sacrificed.\n"
   ]
  },
  {
   "cell_type": "code",
   "execution_count": 37,
   "id": "aa672da7",
   "metadata": {},
   "outputs": [
    {
     "name": "stdout",
     "output_type": "stream",
     "text": [
      "d1: dict_keys([86, 91, 1, 62, 55, 92, 880, 234, 7, 81])\n",
      "d2: dict_keys([1, 7, 55, 62, 81, 86, 91, 92, 234, 880])\n",
      "d3: dict_keys([880, 55, 86, 91, 62, 81, 234, 92, 7, 1])\n"
     ]
    }
   ],
   "source": [
    "# Key ordering depends on insertion order\n",
    "\n",
    "DIAL_CODES = [\n",
    "        (86, 'China'),\n",
    "        (91, 'India'),\n",
    "        (1, 'United States'),\n",
    "        (62, 'Indonesia'),\n",
    "        (55, 'Brazil'),\n",
    "        (92, 'Pakistan'),\n",
    "        (880, 'Bangladesh'),\n",
    "        (234, 'Nigeria'),\n",
    "        (7, 'Russia'),\n",
    "        (81, 'Japan'),\n",
    "]\n",
    "\n",
    "d1 = dict(DIAL_CODES)\n",
    "print('d1:', d1.keys())\n",
    "d2 = dict(sorted(DIAL_CODES))\n",
    "print('d2:', d2.keys())\n",
    "d3 = dict(sorted(DIAL_CODES, key=lambda x : x[1]))\n",
    "print('d3:', d3.keys())"
   ]
  },
  {
   "cell_type": "code",
   "execution_count": 38,
   "id": "9ad277ec",
   "metadata": {},
   "outputs": [
    {
     "data": {
      "text/plain": [
       "True"
      ]
     },
     "execution_count": 38,
     "metadata": {},
     "output_type": "execute_result"
    }
   ],
   "source": [
    "# These three dictionaries are still equal\n",
    "\n",
    "d1 == d2 == d3"
   ]
  },
  {
   "cell_type": "markdown",
   "id": "d5f47bb7",
   "metadata": {},
   "source": [
    "**Adding items to a dict may change the order of existing keys**\n",
    "\n",
    "Whenever you add a new item to a `dict`, the Python interpreter may decide that the hash table of that dictionary needs to grow. This entails building a new, bigger hash table, and adding all current items to the new table. During this process, new (but different) hash collisions may happen, with the result that the keys are likely to be ordered differently in the new hash table. You cannot reliably predict when this will happen.\n",
    "\n",
    "This is why modifying the elements of a dict while iterating through it is a bad idea. Your loop may not scan all the items as expected -- not even the items that were already in the dictionary before you added to it. Do it in two scans.\n",
    "\n",
    "**Sets Summary**\n",
    "\n",
    "Sets and frozensets are also implemented with a hash table, except that each bucket holds only a reference to the element (as if it were a key in a dict, but without a value to go with it). Before set was added to the language, dictionaries with dummy values were often used just to perform fast membership tests on the keys.\n",
    "\n",
    "* Set elements must be hashable objects.\n",
    "* Sets have a significant memory overhead.\n",
    "* Membership testing is very efficient.\n",
    "* Element ordering depends on insertion order.\n",
    "* Adding elements to a set may change the order of other elements."
   ]
  },
  {
   "cell_type": "code",
   "execution_count": null,
   "id": "cf2d7fd1",
   "metadata": {},
   "outputs": [],
   "source": []
  }
 ],
 "metadata": {
  "kernelspec": {
   "display_name": "Python 3",
   "language": "python",
   "name": "python3"
  },
  "language_info": {
   "codemirror_mode": {
    "name": "ipython",
    "version": 3
   },
   "file_extension": ".py",
   "mimetype": "text/x-python",
   "name": "python",
   "nbconvert_exporter": "python",
   "pygments_lexer": "ipython3",
   "version": "3.8.8"
  }
 },
 "nbformat": 4,
 "nbformat_minor": 5
}
