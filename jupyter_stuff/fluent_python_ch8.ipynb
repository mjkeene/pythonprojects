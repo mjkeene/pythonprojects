{
 "cells": [
  {
   "cell_type": "markdown",
   "id": "50e4ad81-ce0f-4c62-ae43-a6ad546ffe6d",
   "metadata": {},
   "source": [
    "<h2>Ch 8: Object References, Mutability, and Recycling</h2>"
   ]
  },
  {
   "cell_type": "code",
   "execution_count": 1,
   "id": "126a4356-6998-456d-9c32-27cb95fc8a0e",
   "metadata": {},
   "outputs": [
    {
     "data": {
      "text/plain": [
       "[1, 2, 3, 4]"
      ]
     },
     "execution_count": 1,
     "metadata": {},
     "output_type": "execute_result"
    }
   ],
   "source": [
    "a = [1, 2, 3]\n",
    "b = a\n",
    "a.append(4)\n",
    "b"
   ]
  },
  {
   "cell_type": "code",
   "execution_count": 2,
   "id": "c27f6816-b9fb-470f-b220-a1255887caa1",
   "metadata": {},
   "outputs": [
    {
     "name": "stdout",
     "output_type": "stream",
     "text": [
      "Gizmo id: 140359417615792\n"
     ]
    }
   ],
   "source": [
    "class Gizmo:\n",
    "    def __init__(self):\n",
    "        print('Gizmo id: %d' % id(self))\n",
    "\n",
    "x = Gizmo()"
   ]
  },
  {
   "cell_type": "code",
   "execution_count": 5,
   "id": "2c6aa369-3362-443e-a949-25207e8ee255",
   "metadata": {},
   "outputs": [
    {
     "name": "stdout",
     "output_type": "stream",
     "text": [
      "Gizmo id: 140359417617136\n"
     ]
    },
    {
     "ename": "TypeError",
     "evalue": "unsupported operand type(s) for *: 'Gizmo' and 'int'",
     "output_type": "error",
     "traceback": [
      "\u001b[0;31m---------------------------------------------------------------------------\u001b[0m",
      "\u001b[0;31mTypeError\u001b[0m                                 Traceback (most recent call last)",
      "\u001b[0;32m<ipython-input-5-2483e8127fbe>\u001b[0m in \u001b[0;36m<module>\u001b[0;34m\u001b[0m\n\u001b[1;32m      1\u001b[0m \u001b[0;31m# Gizmo was instantiated before the multiplication was attempted\u001b[0m\u001b[0;34m\u001b[0m\u001b[0;34m\u001b[0m\u001b[0;34m\u001b[0m\u001b[0m\n\u001b[0;32m----> 2\u001b[0;31m \u001b[0my\u001b[0m \u001b[0;34m=\u001b[0m \u001b[0mGizmo\u001b[0m\u001b[0;34m(\u001b[0m\u001b[0;34m)\u001b[0m \u001b[0;34m*\u001b[0m \u001b[0;36m10\u001b[0m\u001b[0;34m\u001b[0m\u001b[0;34m\u001b[0m\u001b[0m\n\u001b[0m",
      "\u001b[0;31mTypeError\u001b[0m: unsupported operand type(s) for *: 'Gizmo' and 'int'"
     ]
    }
   ],
   "source": [
    "# Gizmo was instantiated before the multiplication was attempted\n",
    "y = Gizmo() * 10"
   ]
  },
  {
   "cell_type": "code",
   "execution_count": 8,
   "id": "34fc32ae-afd0-4980-98cb-30a5ef91cf71",
   "metadata": {},
   "outputs": [
    {
     "data": {
      "text/plain": [
       "['Gizmo',\n",
       " 'In',\n",
       " 'Out',\n",
       " '_',\n",
       " '_1',\n",
       " '_6',\n",
       " '_7',\n",
       " '__',\n",
       " '___',\n",
       " '__builtin__',\n",
       " '__builtins__',\n",
       " '__doc__',\n",
       " '__loader__',\n",
       " '__name__',\n",
       " '__package__',\n",
       " '__spec__',\n",
       " '_dh',\n",
       " '_i',\n",
       " '_i1',\n",
       " '_i2',\n",
       " '_i3',\n",
       " '_i4',\n",
       " '_i5',\n",
       " '_i6',\n",
       " '_i7',\n",
       " '_i8',\n",
       " '_ih',\n",
       " '_ii',\n",
       " '_iii',\n",
       " '_oh',\n",
       " 'a',\n",
       " 'b',\n",
       " 'exit',\n",
       " 'get_ipython',\n",
       " 'quit',\n",
       " 'x']"
      ]
     },
     "execution_count": 8,
     "metadata": {},
     "output_type": "execute_result"
    }
   ],
   "source": [
    "# Variable y was never created, because the exception happened while the right hand side of the assignment was being evaluated\n",
    "# The right hand side of the assignment is where the object is created or retrieved. After that, the variable on the left is bound\n",
    "# to the object, like a label stuck to it\n",
    "dir()"
   ]
  },
  {
   "cell_type": "code",
   "execution_count": 9,
   "id": "cbcac914-fdb5-4866-95f9-6336d73e8e19",
   "metadata": {},
   "outputs": [],
   "source": [
    "charles = {'name': 'Charles L. Dodgson', 'born': 1832}\n",
    "lewis = charles"
   ]
  },
  {
   "cell_type": "code",
   "execution_count": 14,
   "id": "9333c731-75c2-48ff-9904-9c20585953b1",
   "metadata": {},
   "outputs": [
    {
     "data": {
      "text/plain": [
       "True"
      ]
     },
     "execution_count": 14,
     "metadata": {},
     "output_type": "execute_result"
    }
   ],
   "source": [
    "# lewis is an alias for charles, confirm with is and id function\n",
    "lewis is charles"
   ]
  },
  {
   "cell_type": "code",
   "execution_count": 13,
   "id": "18da4478-a10d-4d4a-bec4-b15891f3244f",
   "metadata": {},
   "outputs": [
    {
     "data": {
      "text/plain": [
       "(140359129229696, 140359129229696)"
      ]
     },
     "execution_count": 13,
     "metadata": {},
     "output_type": "execute_result"
    }
   ],
   "source": [
    "id(charles), id(lewis)"
   ]
  },
  {
   "cell_type": "code",
   "execution_count": 16,
   "id": "30029798-6a24-44ee-8469-c864df6949ab",
   "metadata": {},
   "outputs": [
    {
     "data": {
      "text/plain": [
       "{'name': 'Charles L. Dodgson', 'born': 1832, 'balance': 950}"
      ]
     },
     "execution_count": 16,
     "metadata": {},
     "output_type": "execute_result"
    }
   ],
   "source": [
    "# Adding an item to lewis is the same as adding an item to charles\n",
    "lewis['balance'] = 950\n",
    "charles"
   ]
  },
  {
   "cell_type": "code",
   "execution_count": 17,
   "id": "3ffadcb6-5fe5-43f4-ad7c-c86b14567769",
   "metadata": {},
   "outputs": [],
   "source": [
    "# alex is bound to a separate object of equal contents to charles and lewis (charles and lewis are bound to the same object)\n",
    "alex = {'name': 'Charles L. Dodgson', 'born': 1832, 'balance': 950}"
   ]
  },
  {
   "cell_type": "code",
   "execution_count": 20,
   "id": "129f828a-7766-4eb7-8a64-7570d1ff184c",
   "metadata": {},
   "outputs": [
    {
     "data": {
      "text/plain": [
       "True"
      ]
     },
     "execution_count": 20,
     "metadata": {},
     "output_type": "execute_result"
    }
   ],
   "source": [
    "# The objects compare equal\n",
    "alex == charles"
   ]
  },
  {
   "cell_type": "code",
   "execution_count": 22,
   "id": "ba1101c7-3703-4d63-800f-18612a1e7888",
   "metadata": {},
   "outputs": [
    {
     "data": {
      "text/plain": [
       "True"
      ]
     },
     "execution_count": 22,
     "metadata": {},
     "output_type": "execute_result"
    }
   ],
   "source": [
    "# But they are distinct objects\n",
    "alex is not charles"
   ]
  },
  {
   "cell_type": "markdown",
   "id": "6d7a5eae-6333-45f8-aaa3-dae2cd4edda9",
   "metadata": {},
   "source": [
    "Every object has an identity, a type, and a value. An object's identity never changes once it has been created. Think of it as the object's address in memory. The `is` operator compares the identity of two objects. The `id()` function returns an integer representing its identity. \n",
    "\n",
    "In CPython, `id()` returns the memory address of the object, but it may be something else in another Python interpreter. The key point is that ID is guaranteed to be a unique numeric label, and it will never change during the life of the object.\n",
    "\n",
    "In practice, the `id()` function is rarely used. Identity checks are most often done with the `is` operator, and not by comparing IDs.\n",
    "\n",
    "The `==` operator compares the values of objects (the data they hold), while `is` compares their identities. We often compare about values and not identities, so `==` appears more frequently than `is` in Python code. When checking a variable bound to `None`, the recommended way to do it is: `x is None`."
   ]
  },
  {
   "cell_type": "code",
   "execution_count": 23,
   "id": "83edabdd-8b9e-47f6-b55f-9e47ea6b27b8",
   "metadata": {},
   "outputs": [
    {
     "data": {
      "text/plain": [
       "False"
      ]
     },
     "execution_count": 23,
     "metadata": {},
     "output_type": "execute_result"
    }
   ],
   "source": [
    "x is None"
   ]
  },
  {
   "cell_type": "code",
   "execution_count": 24,
   "id": "51c7b474-b5ee-4a53-8db3-cc9e4e995f48",
   "metadata": {},
   "outputs": [
    {
     "data": {
      "text/plain": [
       "True"
      ]
     },
     "execution_count": 24,
     "metadata": {},
     "output_type": "execute_result"
    }
   ],
   "source": [
    "x is not None"
   ]
  },
  {
   "cell_type": "code",
   "execution_count": 26,
   "id": "c025301b-fd0f-4de1-9672-6c7e85d0d7d6",
   "metadata": {},
   "outputs": [
    {
     "data": {
      "text/plain": [
       "True"
      ]
     },
     "execution_count": 26,
     "metadata": {},
     "output_type": "execute_result"
    }
   ],
   "source": [
    "# These two lines do the same things\n",
    "a.__eq__(b)\n",
    "a == b"
   ]
  },
  {
   "cell_type": "markdown",
   "id": "1d1d24a5-824e-42d2-aef4-a60b2ca2c76a",
   "metadata": {},
   "source": [
    "<h3>The Relative Immutability of Tuples</h3>\n",
    "\n",
    "Tuples, like most Python collections -- lists, dicts, sets, etc. -- hold references to objects. If the referenced items are mutable, they may change even if the tuple itself does not. The immutability of tuples really refers to the physical contents of the tuple data structure (i.e., the references it holds), and does not extend to the referenced objects.\n",
    "\n",
    "Below will showcase an example in which the value of a tuple changes as a result of changes to a mutable object referenced in it. <b>What can never change in a tuple is the identity of the items it contains.<b>"
   ]
  },
  {
   "cell_type": "code",
   "execution_count": 27,
   "id": "a9b25f97-ace3-4d90-8b85-71d516d56fce",
   "metadata": {},
   "outputs": [
    {
     "data": {
      "text/plain": [
       "True"
      ]
     },
     "execution_count": 27,
     "metadata": {},
     "output_type": "execute_result"
    }
   ],
   "source": [
    "t1 = (1, 2, [30, 40])\n",
    "t2 = (1, 2, [30, 40])\n",
    "t1 == t2"
   ]
  },
  {
   "cell_type": "code",
   "execution_count": 28,
   "id": "88e85254-5472-4ba2-8d44-f476f6d6261b",
   "metadata": {},
   "outputs": [
    {
     "data": {
      "text/plain": [
       "140359417758592"
      ]
     },
     "execution_count": 28,
     "metadata": {},
     "output_type": "execute_result"
    }
   ],
   "source": [
    "id(t1[-1])"
   ]
  },
  {
   "cell_type": "code",
   "execution_count": 29,
   "id": "173f1965-4964-4620-b500-e1d7548b243e",
   "metadata": {},
   "outputs": [],
   "source": [
    "t1[-1].append(99)"
   ]
  },
  {
   "cell_type": "code",
   "execution_count": 30,
   "id": "c121b0dd-c19e-4211-bea6-3763e03cd297",
   "metadata": {},
   "outputs": [
    {
     "data": {
      "text/plain": [
       "(1, 2, [30, 40, 99])"
      ]
     },
     "execution_count": 30,
     "metadata": {},
     "output_type": "execute_result"
    }
   ],
   "source": [
    "t1"
   ]
  },
  {
   "cell_type": "code",
   "execution_count": 31,
   "id": "557fa240-d5dd-46ea-ad38-857cf29e385c",
   "metadata": {},
   "outputs": [
    {
     "data": {
      "text/plain": [
       "140359417758592"
      ]
     },
     "execution_count": 31,
     "metadata": {},
     "output_type": "execute_result"
    }
   ],
   "source": [
    "id(t1[-1])"
   ]
  },
  {
   "cell_type": "code",
   "execution_count": 32,
   "id": "5b02e554-0150-42ae-86f6-05150c4118ef",
   "metadata": {},
   "outputs": [
    {
     "data": {
      "text/plain": [
       "False"
      ]
     },
     "execution_count": 32,
     "metadata": {},
     "output_type": "execute_result"
    }
   ],
   "source": [
    "t1 == t2"
   ]
  },
  {
   "cell_type": "markdown",
   "id": "4a6de8c7-ebb1-4318-b6dc-e9e53c30d80a",
   "metadata": {},
   "source": [
    "<h3>Copies are Shallow by Default</h3>\n",
    "The easiest way to copy a list (or most built-in mutable collections) is to use the built-in constructor for the type itself."
   ]
  },
  {
   "cell_type": "code",
   "execution_count": 33,
   "id": "98d565a1-538a-4834-9cbb-cba2fe507353",
   "metadata": {},
   "outputs": [
    {
     "data": {
      "text/plain": [
       "[3, [55, 44], (7, 8, 9)]"
      ]
     },
     "execution_count": 33,
     "metadata": {},
     "output_type": "execute_result"
    }
   ],
   "source": [
    "l1 = [3, [55, 44], (7, 8, 9)]\n",
    "l2 = list(l1)\n",
    "l2"
   ]
  },
  {
   "cell_type": "code",
   "execution_count": 34,
   "id": "08d06fc6-7165-42c7-8fe6-b1e6303d6f0d",
   "metadata": {},
   "outputs": [
    {
     "data": {
      "text/plain": [
       "True"
      ]
     },
     "execution_count": 34,
     "metadata": {},
     "output_type": "execute_result"
    }
   ],
   "source": [
    "l2 == l1"
   ]
  },
  {
   "cell_type": "code",
   "execution_count": 35,
   "id": "a65b95ee-1a9f-4441-80ef-e70c4d1983cd",
   "metadata": {},
   "outputs": [
    {
     "data": {
      "text/plain": [
       "False"
      ]
     },
     "execution_count": 35,
     "metadata": {},
     "output_type": "execute_result"
    }
   ],
   "source": [
    "l2 is l1"
   ]
  },
  {
   "cell_type": "code",
   "execution_count": null,
   "id": "75cf86c9-1379-4f65-b758-bdb03acdcd5c",
   "metadata": {},
   "outputs": [],
   "source": []
  },
  {
   "cell_type": "code",
   "execution_count": null,
   "id": "93a5377f-e3a6-4db6-be4a-b6629b8bd760",
   "metadata": {},
   "outputs": [],
   "source": []
  },
  {
   "cell_type": "code",
   "execution_count": null,
   "id": "65082fce-a647-4275-ab75-a60bb7965cb7",
   "metadata": {},
   "outputs": [],
   "source": []
  },
  {
   "cell_type": "code",
   "execution_count": null,
   "id": "1e61c085-58e8-47f8-9811-61120695506a",
   "metadata": {},
   "outputs": [],
   "source": []
  },
  {
   "cell_type": "code",
   "execution_count": null,
   "id": "7c2395ed-a2a9-4ab5-96cc-0ee3b5e29d71",
   "metadata": {},
   "outputs": [],
   "source": []
  },
  {
   "cell_type": "code",
   "execution_count": null,
   "id": "037dc5f1-5712-430f-b85d-08a3bba0e6a1",
   "metadata": {},
   "outputs": [],
   "source": []
  }
 ],
 "metadata": {
  "kernelspec": {
   "display_name": "Python 3",
   "language": "python",
   "name": "python3"
  },
  "language_info": {
   "codemirror_mode": {
    "name": "ipython",
    "version": 3
   },
   "file_extension": ".py",
   "mimetype": "text/x-python",
   "name": "python",
   "nbconvert_exporter": "python",
   "pygments_lexer": "ipython3",
   "version": "3.8.8"
  }
 },
 "nbformat": 4,
 "nbformat_minor": 5
}
